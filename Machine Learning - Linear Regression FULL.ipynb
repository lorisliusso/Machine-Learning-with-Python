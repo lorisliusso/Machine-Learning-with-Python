{
 "cells": [
  {
   "cell_type": "markdown",
   "metadata": {},
   "source": [
    "# Machine Learning - Linear Regression | Predicting House Prices 🏡\n",
    "\n",
    "***By Loris Liusso***"
   ]
  },
  {
   "cell_type": "markdown",
   "metadata": {},
   "source": [
    "### What is Machine Learning? 🤖\n",
    "\n",
    "\"`Machine learning is a subset of artificial intelligence (AI) and computer science which focuses on the use of data and algorithms to imitate the way that humans learn.`\"\n",
    "\n",
    "***-IBM***\n",
    "\n",
    "<u>Thanks to Machine learning we are able to build systems that can learn from historical data, identify patterns, and make logical decisions with little to no human intervention.</u>\n",
    "\n",
    "### Why is it so important nowadays?  💻 💻 💻\n",
    "\n",
    "- <u>Machine learning is growing in importance due to increasingly enormous volumes and variety of data, the access and affordability of computational power, and the availability of high speed Internet. </u>\n",
    "\n",
    "- These digital transformation factors make it possible for one to rapidly and automatically **develop models that can quickly and accurately analyze extraordinarily large and complex data sets.**\n",
    "\n",
    "### Machine learning is behind:  🔮\n",
    "\n",
    "- Chatbots and predictive text, \n",
    "- Language translation apps, \n",
    "- The shows Netflix suggests to you, and how your social media feeds are presented.\n",
    "- Fraud Detection\n",
    "- Self-Driving Cars\n",
    "- Healthcare\n",
    "- Process Automation\n",
    "\n",
    "etc.."
   ]
  },
  {
   "cell_type": "markdown",
   "metadata": {},
   "source": [
    "<img src=\"https://www.edureka.co/blog/wp-content/uploads/2018/03/Use-Case-What-is-Machine-Learning-Edureka.png\" alt=\"300\" width=\"750\" align=\"left\"/>\n"
   ]
  },
  {
   "cell_type": "markdown",
   "metadata": {},
   "source": [
    "# What are the different types of Machine Learning?\n",
    "\n",
    "<u><h2> We have 3 main types of Machine Learning:</h2></u>\n",
    "\n",
    "\n",
    "### `1) Supervised Machine Learning`\n",
    "\n",
    "### The main difference between supervised and unsupervised learning: Labeled data!\n",
    "\n",
    "`Supervised learning uses labeled input and output data`, while an unsupervised learning algorithm does not.\n",
    "\n",
    "`To put it simply, labeled data contains a collection of variables (features) and a specific output that we are trying to predict.`\n",
    "\n",
    "The reason it is called supervised machine learning is because at least part of <u>this approach requires human oversight. </u>\n",
    "\n",
    "Supervised Learning deals with **two types of problem:** <u>Regression problems and Classification problems.</u>\n",
    "\n",
    "\n",
    "**Examples of supervised learning include:**\n",
    "\n",
    "- Linear regression\n",
    "- Logistic regression\n",
    "- K-Nearest Neighbors (KNN) \n",
    "- Support vector machines (SVM)\n",
    "- Decision trees\n",
    "- Random Forest\n",
    "- Naive Bayes"
   ]
  },
  {
   "cell_type": "markdown",
   "metadata": {},
   "source": [
    "### `Regression VS Classification:`\n",
    "    \n",
    "**Regression and Classification algorithms are Supervised Learning algorithms**. Both the algorithms are used for prediction in Machine learning and work with the labeled datasets. \n",
    "\n",
    "<u>The main difference between Regression and Classification algorithms</u> is that **`Regression algorithms are used to predict the continuous values`** such as price, salary, age, etc. and **`Classification algorithms are used to predict/Classify the discrete values`** such as Male or Female, True or False, Spam or Not Spam, etc."
   ]
  },
  {
   "cell_type": "markdown",
   "metadata": {},
   "source": [
    "<img src=\"https://miro.medium.com/max/775/1*Qn4eJPhkvrEQ62CtmydLZw.png\" alt=\"300\" width=\"450\" align=\"left\"/>\n"
   ]
  },
  {
   "cell_type": "markdown",
   "metadata": {},
   "source": [
    "### 2) `Unsupervised Machine Learning`\n",
    "\n",
    "`Unsupervised machine learning is the training of models on raw and unlabelled training data.`\n",
    "\n",
    "It is often <u>used to identify patterns and trends in raw datasets, or to cluster similar data into a specific number of groups.</u>\n",
    "\n",
    "It’s also often an approach used in the early exploratory phase to better understand the datasets.  \n",
    "\n",
    "**Examples of unsupervised learning include:**\n",
    "\n",
    "- K – Means clustering\n",
    "- Principal Component Analysis (PCA)"
   ]
  },
  {
   "cell_type": "markdown",
   "metadata": {},
   "source": [
    "### 3) `Reinforcement Learning`\n",
    "\n",
    "`Reinforcement learning is a technique that provides training feedback using a reward mechanism.`\n",
    "\n",
    "Reinforcement learning does not require labeled data as does supervised learning. Further still, it doesn’t even use an unlabeled dataset as would unsupervised learning. \n",
    "\n",
    "The learning process occurs as a machine, or **Agent, that interacts with an environment and tries a variety of methods to reach an outcome.** <u>The Agent is rewarded or punished when it reaches a desirable or undesirable State.</u> \n",
    "\n",
    "<u>There is always a start state and an end state. However, to reach the end state, there might be a different path.</u>\n",
    "\n",
    "***In Reinforcement Learning Problem an agent tries to manipulate the environment.*** \n",
    "\n",
    "The agent travels from one state to another. The agent gets the reward(appreciation) on success but will not receive any reward or appreciation on failure. <u>**In this way, the agent learns from the environment.**</u>\n",
    "\n",
    "**Some applications of reinforcement learning are:**\n",
    "\n",
    "- Robotics\n",
    "- Autonomous driving\n",
    "- Gaming"
   ]
  },
  {
   "cell_type": "markdown",
   "metadata": {},
   "source": [
    "<img src=\"https://github.com/lorisliusso/Machine-Learning-with-Python/blob/master/Machine_Learning_map.png?raw=true\" alt=\"300\" width=\"800\" align=\"left\"/>"
   ]
  },
  {
   "cell_type": "markdown",
   "metadata": {},
   "source": [
    "## What is Linear Regression?  🤔\n",
    "\n",
    "`It is a Supervised Machine Learning model that tries to find out the best possible linear relationship between the input features (X) and the target variable (y).`\n",
    "\n",
    "<h3><mark>Formula:</mark></h3> \n",
    "\n",
    "## y= aX + b + 𝜀      \n",
    "\n",
    "(y=β0+βiX+ϵi)\n",
    "\n",
    "**It optimizes slope a and intercept b by reducing the residuals between the actual y and the predicted y.**\n",
    "\n",
    "`To get the best weights/parameters, we usually minimize the sum of squared residuals (SSR) for all observations.`\n",
    "\n",
    "The linear relation between the input features and the output in <u>2D is simply a line.</u>\n",
    "\n",
    "***Formula - Legend:***\n",
    "\n",
    "- y is the predicted value of the dependent variable (y) for any given value of the independent variable (x).\n",
    "- b is the intercept, the predicted value of y when the x is 0.\n",
    "- a is the regression coefficient – how much we expect y to change as x increases.\n",
    "- X is the independent variable ( the variable we expect is influencing y).\n",
    "- 𝜀 is the error term (The distance between each point and the line, so the variation in the dependent variable not explained by the independent variables.)\n"
   ]
  },
  {
   "cell_type": "markdown",
   "metadata": {},
   "source": [
    "<img src=\"https://github.com/lorisliusso/Machine-Learning-with-Python/blob/master/formula%20linear_reg%202d.png?raw=true\" alt=\"400\" width=\"600\" align=\"left\"/>\n"
   ]
  },
  {
   "cell_type": "markdown",
   "metadata": {},
   "source": [
    "<h3><mark>Multiple Linear Regression</h3></mark>\n",
    "\n",
    "<u>Multiple or multivariate linear regression is a case of linear regression with two or more independent variables!</u>\n",
    "\n",
    "Y= β0 +∑ βiXi + ϵi\n"
   ]
  },
  {
   "cell_type": "markdown",
   "metadata": {},
   "source": [
    "<img src=\"https://miro.medium.com/max/1400/0*fr2NtfEx-ZrVMwz4\" alt=\"400\" width=\"800\" align=\"left\"/>\n"
   ]
  },
  {
   "cell_type": "markdown",
   "metadata": {},
   "source": [
    "<u><h3>The coefficient of determination 𝑅² :</h3></u>\n",
    "\n",
    "The coefficient of determination, denoted as 𝑅², tells you which amount of variation in 𝑦 can be explained by the independent variable/variables X, using the particular regression model. A larger 𝑅² indicates a better fit and means that the model can better explain the variation of the output with different inputs.\n",
    "\n",
    "**The value 𝑅² = 1 corresponds to SSR = 0. That’s the perfect fit, since the values of predicted and actual responses fit completely to each other.**"
   ]
  },
  {
   "cell_type": "markdown",
   "metadata": {},
   "source": [
    "<img src=\"https://github.com/lorisliusso/Machine-Learning-with-Python/blob/master/linear%20regression.png?raw=true\" alt=\"400\" width=\"800\" align=\"left\"/>\n"
   ]
  },
  {
   "cell_type": "markdown",
   "metadata": {},
   "source": [
    "## Sklearn will become Our Best Friend:\n",
    "\n",
    "`Scikit-learn (Sklearn) is a Machine Learning library that provides data preprocessing, modeling, and model selection tools.`\n",
    "\n",
    "**Scikit-learn provides many unsupervised and supervised learning algorithms.**\n",
    "\n",
    "It’s built upon some of the technology you might already be familiar with, like NumPy, pandas, and Matplotlib!"
   ]
  },
  {
   "cell_type": "markdown",
   "metadata": {},
   "source": [
    "<img src=\"https://blog.anybox.fr/content/images/size/w1140/2020/01/scikit-learn-1.png\" alt=\"400\" width=\"700\" align=\"left\"/>"
   ]
  },
  {
   "cell_type": "markdown",
   "metadata": {},
   "source": [
    "<h1 style=\"background-color: lightblue\">House Dataset - Sales Price Prediction with Linear Regression 🏘️💵 </h1> \n"
   ]
  },
  {
   "cell_type": "markdown",
   "metadata": {},
   "source": [
    "<u> <h1> Preprocessing Workflow + EDA </h1></u>\n"
   ]
  },
  {
   "cell_type": "markdown",
   "metadata": {},
   "source": [
    "🎯 **This part will take you through the preprocessing workflow. Step by step, feature by feature, you will investigate the dataset and take preprocessing decisions accordingly.**"
   ]
  },
  {
   "cell_type": "markdown",
   "metadata": {},
   "source": [
    "👇 **Download** the `ML_Houses_dataset.csv` [here](https://wagon-public-datasets.s3.amazonaws.com/Machine%20Learning%20Datasets/ML_Houses_dataset.csv) "
   ]
  },
  {
   "cell_type": "code",
   "execution_count": 1,
   "metadata": {},
   "outputs": [
    {
     "data": {
      "text/html": [
       "<div>\n",
       "<style scoped>\n",
       "    .dataframe tbody tr th:only-of-type {\n",
       "        vertical-align: middle;\n",
       "    }\n",
       "\n",
       "    .dataframe tbody tr th {\n",
       "        vertical-align: top;\n",
       "    }\n",
       "\n",
       "    .dataframe thead th {\n",
       "        text-align: right;\n",
       "    }\n",
       "</style>\n",
       "<table border=\"1\" class=\"dataframe\">\n",
       "  <thead>\n",
       "    <tr style=\"text-align: right;\">\n",
       "      <th></th>\n",
       "      <th>GrLivArea</th>\n",
       "      <th>BedroomAbvGr</th>\n",
       "      <th>KitchenAbvGr</th>\n",
       "      <th>OverallCond</th>\n",
       "      <th>RoofSurface</th>\n",
       "      <th>GarageFinish</th>\n",
       "      <th>CentralAir</th>\n",
       "      <th>ChimneyStyle</th>\n",
       "      <th>MoSold</th>\n",
       "      <th>SalePrice</th>\n",
       "    </tr>\n",
       "  </thead>\n",
       "  <tbody>\n",
       "    <tr>\n",
       "      <th>0</th>\n",
       "      <td>1710</td>\n",
       "      <td>3</td>\n",
       "      <td>1</td>\n",
       "      <td>5</td>\n",
       "      <td>1995.0</td>\n",
       "      <td>RFn</td>\n",
       "      <td>Y</td>\n",
       "      <td>bricks</td>\n",
       "      <td>2</td>\n",
       "      <td>208500</td>\n",
       "    </tr>\n",
       "    <tr>\n",
       "      <th>1</th>\n",
       "      <td>1262</td>\n",
       "      <td>3</td>\n",
       "      <td>1</td>\n",
       "      <td>8</td>\n",
       "      <td>874.0</td>\n",
       "      <td>RFn</td>\n",
       "      <td>Y</td>\n",
       "      <td>bricks</td>\n",
       "      <td>5</td>\n",
       "      <td>181500</td>\n",
       "    </tr>\n",
       "    <tr>\n",
       "      <th>2</th>\n",
       "      <td>1786</td>\n",
       "      <td>3</td>\n",
       "      <td>1</td>\n",
       "      <td>5</td>\n",
       "      <td>1593.0</td>\n",
       "      <td>RFn</td>\n",
       "      <td>Y</td>\n",
       "      <td>castiron</td>\n",
       "      <td>9</td>\n",
       "      <td>223500</td>\n",
       "    </tr>\n",
       "    <tr>\n",
       "      <th>3</th>\n",
       "      <td>1717</td>\n",
       "      <td>3</td>\n",
       "      <td>1</td>\n",
       "      <td>5</td>\n",
       "      <td>2566.0</td>\n",
       "      <td>Unf</td>\n",
       "      <td>Y</td>\n",
       "      <td>castiron</td>\n",
       "      <td>2</td>\n",
       "      <td>140000</td>\n",
       "    </tr>\n",
       "    <tr>\n",
       "      <th>4</th>\n",
       "      <td>2198</td>\n",
       "      <td>4</td>\n",
       "      <td>1</td>\n",
       "      <td>5</td>\n",
       "      <td>3130.0</td>\n",
       "      <td>RFn</td>\n",
       "      <td>Y</td>\n",
       "      <td>bricks</td>\n",
       "      <td>12</td>\n",
       "      <td>250000</td>\n",
       "    </tr>\n",
       "  </tbody>\n",
       "</table>\n",
       "</div>"
      ],
      "text/plain": [
       "   GrLivArea  BedroomAbvGr  KitchenAbvGr  OverallCond  RoofSurface  \\\n",
       "0       1710             3             1            5       1995.0   \n",
       "1       1262             3             1            8        874.0   \n",
       "2       1786             3             1            5       1593.0   \n",
       "3       1717             3             1            5       2566.0   \n",
       "4       2198             4             1            5       3130.0   \n",
       "\n",
       "  GarageFinish CentralAir ChimneyStyle  MoSold  SalePrice  \n",
       "0          RFn          Y       bricks       2     208500  \n",
       "1          RFn          Y       bricks       5     181500  \n",
       "2          RFn          Y     castiron       9     223500  \n",
       "3          Unf          Y     castiron       2     140000  \n",
       "4          RFn          Y       bricks      12     250000  "
      ]
     },
     "execution_count": 1,
     "metadata": {},
     "output_type": "execute_result"
    }
   ],
   "source": [
    "import pandas as pd\n",
    "\n",
    "data = pd.read_csv(\"houses.csv\") #read dataset \n",
    "\n",
    "#Select only these columns:\n",
    "\n",
    "data = data[['GrLivArea','BedroomAbvGr','KitchenAbvGr', 'OverallCond','RoofSurface','GarageFinish','CentralAir','ChimneyStyle','MoSold','SalePrice']]\n",
    "\n",
    "data.head() #first 5 rows"
   ]
  },
  {
   "cell_type": "code",
   "execution_count": 2,
   "metadata": {},
   "outputs": [
    {
     "data": {
      "text/plain": [
       "(1760, 10)"
      ]
     },
     "execution_count": 2,
     "metadata": {},
     "output_type": "execute_result"
    }
   ],
   "source": [
    "data.shape #1760 rows, 10 columns"
   ]
  },
  {
   "cell_type": "markdown",
   "metadata": {},
   "source": [
    "👉 Take the time to do a preliminary investigation of the features by reading the dataset description available [here](https://wagon-public-datasets.s3.amazonaws.com/Machine%20Learning%20Datasets/ML_Houses_dataset_description.txt)."
   ]
  },
  {
   "cell_type": "markdown",
   "metadata": {},
   "source": [
    "# 1. Removing Duplicates"
   ]
  },
  {
   "cell_type": "markdown",
   "metadata": {},
   "source": [
    "🔍 **The identification and removal of duplicates will improve the quality of the data for your analysis which will lead to higher accuracy.**"
   ]
  },
  {
   "cell_type": "markdown",
   "metadata": {},
   "source": [
    "❓ **How many duplicated rows are there in the dataset?**"
   ]
  },
  {
   "cell_type": "code",
   "execution_count": 3,
   "metadata": {
    "tags": [
     "challengify"
    ]
   },
   "outputs": [
    {
     "data": {
      "text/plain": [
       "300"
      ]
     },
     "execution_count": 3,
     "metadata": {},
     "output_type": "execute_result"
    }
   ],
   "source": [
    "duplicate_count = len(data)-len(data.drop_duplicates()) # Original data length (n. rows) - data length without duplicates\n",
    "\n",
    "duplicate_count"
   ]
  },
  {
   "cell_type": "markdown",
   "metadata": {},
   "source": [
    "👇 **Remove the duplicates from the dataset. Overwrite the dataframe `data`.**"
   ]
  },
  {
   "cell_type": "code",
   "execution_count": 4,
   "metadata": {
    "tags": [
     "challengify"
    ]
   },
   "outputs": [
    {
     "data": {
      "text/html": [
       "<div>\n",
       "<style scoped>\n",
       "    .dataframe tbody tr th:only-of-type {\n",
       "        vertical-align: middle;\n",
       "    }\n",
       "\n",
       "    .dataframe tbody tr th {\n",
       "        vertical-align: top;\n",
       "    }\n",
       "\n",
       "    .dataframe thead th {\n",
       "        text-align: right;\n",
       "    }\n",
       "</style>\n",
       "<table border=\"1\" class=\"dataframe\">\n",
       "  <thead>\n",
       "    <tr style=\"text-align: right;\">\n",
       "      <th></th>\n",
       "      <th>GrLivArea</th>\n",
       "      <th>BedroomAbvGr</th>\n",
       "      <th>KitchenAbvGr</th>\n",
       "      <th>OverallCond</th>\n",
       "      <th>RoofSurface</th>\n",
       "      <th>GarageFinish</th>\n",
       "      <th>CentralAir</th>\n",
       "      <th>ChimneyStyle</th>\n",
       "      <th>MoSold</th>\n",
       "      <th>SalePrice</th>\n",
       "    </tr>\n",
       "  </thead>\n",
       "  <tbody>\n",
       "    <tr>\n",
       "      <th>0</th>\n",
       "      <td>1710</td>\n",
       "      <td>3</td>\n",
       "      <td>1</td>\n",
       "      <td>5</td>\n",
       "      <td>1995.0</td>\n",
       "      <td>RFn</td>\n",
       "      <td>Y</td>\n",
       "      <td>bricks</td>\n",
       "      <td>2</td>\n",
       "      <td>208500</td>\n",
       "    </tr>\n",
       "    <tr>\n",
       "      <th>1</th>\n",
       "      <td>1262</td>\n",
       "      <td>3</td>\n",
       "      <td>1</td>\n",
       "      <td>8</td>\n",
       "      <td>874.0</td>\n",
       "      <td>RFn</td>\n",
       "      <td>Y</td>\n",
       "      <td>bricks</td>\n",
       "      <td>5</td>\n",
       "      <td>181500</td>\n",
       "    </tr>\n",
       "    <tr>\n",
       "      <th>2</th>\n",
       "      <td>1786</td>\n",
       "      <td>3</td>\n",
       "      <td>1</td>\n",
       "      <td>5</td>\n",
       "      <td>1593.0</td>\n",
       "      <td>RFn</td>\n",
       "      <td>Y</td>\n",
       "      <td>castiron</td>\n",
       "      <td>9</td>\n",
       "      <td>223500</td>\n",
       "    </tr>\n",
       "    <tr>\n",
       "      <th>3</th>\n",
       "      <td>1717</td>\n",
       "      <td>3</td>\n",
       "      <td>1</td>\n",
       "      <td>5</td>\n",
       "      <td>2566.0</td>\n",
       "      <td>Unf</td>\n",
       "      <td>Y</td>\n",
       "      <td>castiron</td>\n",
       "      <td>2</td>\n",
       "      <td>140000</td>\n",
       "    </tr>\n",
       "    <tr>\n",
       "      <th>4</th>\n",
       "      <td>2198</td>\n",
       "      <td>4</td>\n",
       "      <td>1</td>\n",
       "      <td>5</td>\n",
       "      <td>3130.0</td>\n",
       "      <td>RFn</td>\n",
       "      <td>Y</td>\n",
       "      <td>bricks</td>\n",
       "      <td>12</td>\n",
       "      <td>250000</td>\n",
       "    </tr>\n",
       "  </tbody>\n",
       "</table>\n",
       "</div>"
      ],
      "text/plain": [
       "   GrLivArea  BedroomAbvGr  KitchenAbvGr  OverallCond  RoofSurface  \\\n",
       "0       1710             3             1            5       1995.0   \n",
       "1       1262             3             1            8        874.0   \n",
       "2       1786             3             1            5       1593.0   \n",
       "3       1717             3             1            5       2566.0   \n",
       "4       2198             4             1            5       3130.0   \n",
       "\n",
       "  GarageFinish CentralAir ChimneyStyle  MoSold  SalePrice  \n",
       "0          RFn          Y       bricks       2     208500  \n",
       "1          RFn          Y       bricks       5     181500  \n",
       "2          RFn          Y     castiron       9     223500  \n",
       "3          Unf          Y     castiron       2     140000  \n",
       "4          RFn          Y       bricks      12     250000  "
      ]
     },
     "execution_count": 4,
     "metadata": {},
     "output_type": "execute_result"
    }
   ],
   "source": [
    "# You can Drop duplicates inplace or overwrite data simply like this: data= data.drop_duplicates()\n",
    "\n",
    "data.drop_duplicates(inplace=True) \n",
    "\n",
    "data.head()"
   ]
  },
  {
   "cell_type": "code",
   "execution_count": 5,
   "metadata": {},
   "outputs": [
    {
     "data": {
      "text/plain": [
       "(1460, 10)"
      ]
     },
     "execution_count": 5,
     "metadata": {},
     "output_type": "execute_result"
    }
   ],
   "source": [
    "data.shape"
   ]
  },
  {
   "cell_type": "markdown",
   "metadata": {},
   "source": [
    "# 2. Missing data "
   ]
  },
  {
   "cell_type": "markdown",
   "metadata": {},
   "source": [
    "**Common representations:**\n",
    "    \n",
    "- NaN (not a number)\n",
    "- Large negatives (-99,-999)\n",
    "- ?\n",
    "- Infinity"
   ]
  },
  {
   "cell_type": "markdown",
   "metadata": {},
   "source": [
    "👇 **Print out the percentage % of missing values for all columns of the dataframe.**"
   ]
  },
  {
   "cell_type": "code",
   "execution_count": 6,
   "metadata": {
    "tags": [
     "challengify"
    ]
   },
   "outputs": [
    {
     "data": {
      "text/plain": [
       "GarageFinish    0.055479\n",
       "RoofSurface     0.006164\n",
       "GrLivArea       0.000000\n",
       "BedroomAbvGr    0.000000\n",
       "KitchenAbvGr    0.000000\n",
       "OverallCond     0.000000\n",
       "CentralAir      0.000000\n",
       "ChimneyStyle    0.000000\n",
       "MoSold          0.000000\n",
       "SalePrice       0.000000\n",
       "dtype: float64"
      ]
     },
     "execution_count": 6,
     "metadata": {},
     "output_type": "execute_result"
    }
   ],
   "source": [
    "data.isnull().sum().sort_values(ascending=False)/len(data) #NaN percentage for each column"
   ]
  },
  {
   "cell_type": "markdown",
   "metadata": {},
   "source": [
    "<h3 style=\"background-color: lightyellow\">☑️ 3 Main Options to deal with missing values: </h3>\n",
    "\n",
    "**1. Drop the column entirely**\n",
    "\n",
    "**2. Impute the column median using Sklearn's `SimpleImputer` 💡**\n",
    "\n",
    "<u>Suggestion:</u>\n",
    "\n",
    "- Greater than 30% of values missing: Potentially drop feature or row\n",
    "- Less than 30% of values missing: impute a value that makes sense e.g. Median, mean, mode.\n",
    "\n",
    "**3. Preserve the NaNs and replace them with meaningful values**"
   ]
  },
  {
   "cell_type": "markdown",
   "metadata": {},
   "source": [
    "## `GarageFinish`"
   ]
  },
  {
   "cell_type": "markdown",
   "metadata": {},
   "source": [
    "👇 Investigate the missing values in `GarageFinish`. \n",
    "\n",
    "\n",
    "Make changes effective in the dataframe `data`.\n"
   ]
  },
  {
   "cell_type": "markdown",
   "metadata": {},
   "source": [
    "💡 **Hint**\n",
    "\n",
    "According to the dataset description, **the missing values in `GarageFinish` represent a house having no garage**. They need to be encoded as such.\n"
   ]
  },
  {
   "cell_type": "code",
   "execution_count": 7,
   "metadata": {
    "tags": [
     "challengify"
    ]
   },
   "outputs": [],
   "source": [
    "import numpy as np\n",
    "\n",
    "data['GarageFinish'].replace(np.nan, \"NoGarage\", inplace=True) #Replace NaN by \"NoGarage\""
   ]
  },
  {
   "cell_type": "code",
   "execution_count": 8,
   "metadata": {},
   "outputs": [
    {
     "data": {
      "text/plain": [
       "0"
      ]
     },
     "execution_count": 8,
     "metadata": {},
     "output_type": "execute_result"
    }
   ],
   "source": [
    "data['GarageFinish'].isnull().sum()"
   ]
  },
  {
   "cell_type": "markdown",
   "metadata": {},
   "source": [
    "## `RoofSurface`"
   ]
  },
  {
   "cell_type": "markdown",
   "metadata": {},
   "source": [
    "👇 Investigate the missing values in `RoofSurface`. \n",
    "\n",
    "Make changes effective in the dataframe `data`."
   ]
  },
  {
   "cell_type": "markdown",
   "metadata": {},
   "source": [
    "**💡 Hint**\n",
    "\n",
    "`RoofSurface` **has a few missing values that can be imputed by the median value.**\n"
   ]
  },
  {
   "cell_type": "code",
   "execution_count": 9,
   "metadata": {
    "tags": [
     "challengify"
    ]
   },
   "outputs": [],
   "source": [
    "from sklearn.impute import SimpleImputer\n",
    "\n",
    "imputer = SimpleImputer(strategy=\"median\") # Instanciate a SimpleImputer object with strategy of choice\n",
    "\n",
    "data['RoofSurface'] = imputer.fit_transform(data[['RoofSurface']]) # Call the \"fit_transform\" method on the object"
   ]
  },
  {
   "cell_type": "markdown",
   "metadata": {},
   "source": [
    "👇 When you are done, print out the percentage of missing values for the entire dataframe."
   ]
  },
  {
   "cell_type": "code",
   "execution_count": 10,
   "metadata": {
    "tags": [
     "challengify"
    ]
   },
   "outputs": [
    {
     "data": {
      "text/plain": [
       "0"
      ]
     },
     "execution_count": 10,
     "metadata": {},
     "output_type": "execute_result"
    }
   ],
   "source": [
    "data['RoofSurface'].isnull().sum()"
   ]
  },
  {
   "cell_type": "markdown",
   "metadata": {},
   "source": [
    "⚠️ Be careful: not all missing values are represented as `np.nans`, and Python's `isnull()` only detects `np.nans` ⚠️"
   ]
  },
  {
   "cell_type": "markdown",
   "metadata": {},
   "source": [
    "## `ChimneyStyle`"
   ]
  },
  {
   "cell_type": "markdown",
   "metadata": {},
   "source": [
    "👇 Investigate the missing values in `ChimneyStyle`. Then, choose one of the following solutions:\n",
    "\n",
    "Make changes effective in the dataframe `data`."
   ]
  },
  {
   "cell_type": "markdown",
   "metadata": {},
   "source": [
    "**💡 Hint**\n",
    "\n",
    "`ChimneyStyle` has a lot of missing values. The description does not touch on what they represent. As such, **it is better not to make any assumptions and to drop the column entirely.**\n"
   ]
  },
  {
   "cell_type": "code",
   "execution_count": 11,
   "metadata": {},
   "outputs": [],
   "source": [
    "data['ChimneyStyle'].replace(\"?\", np.nan, inplace=True) #1st option\n",
    "\n",
    "#data['ChimneyStyle'] = data['ChimneyStyle'].apply(lambda x: np.nan if x == '?' else x) #2 option with apply()"
   ]
  },
  {
   "cell_type": "code",
   "execution_count": 12,
   "metadata": {},
   "outputs": [
    {
     "data": {
      "text/plain": [
       "0.9965753424657534"
      ]
     },
     "execution_count": 12,
     "metadata": {},
     "output_type": "execute_result"
    }
   ],
   "source": [
    "data['ChimneyStyle'].isnull().sum()/len(data)"
   ]
  },
  {
   "cell_type": "code",
   "execution_count": 13,
   "metadata": {
    "tags": [
     "challengify"
    ]
   },
   "outputs": [],
   "source": [
    "data.drop(columns='ChimneyStyle', inplace=True) # Drop ChimneyStyle column "
   ]
  },
  {
   "cell_type": "code",
   "execution_count": 14,
   "metadata": {},
   "outputs": [
    {
     "data": {
      "text/html": [
       "<div>\n",
       "<style scoped>\n",
       "    .dataframe tbody tr th:only-of-type {\n",
       "        vertical-align: middle;\n",
       "    }\n",
       "\n",
       "    .dataframe tbody tr th {\n",
       "        vertical-align: top;\n",
       "    }\n",
       "\n",
       "    .dataframe thead th {\n",
       "        text-align: right;\n",
       "    }\n",
       "</style>\n",
       "<table border=\"1\" class=\"dataframe\">\n",
       "  <thead>\n",
       "    <tr style=\"text-align: right;\">\n",
       "      <th></th>\n",
       "      <th>GrLivArea</th>\n",
       "      <th>BedroomAbvGr</th>\n",
       "      <th>KitchenAbvGr</th>\n",
       "      <th>OverallCond</th>\n",
       "      <th>RoofSurface</th>\n",
       "      <th>GarageFinish</th>\n",
       "      <th>CentralAir</th>\n",
       "      <th>MoSold</th>\n",
       "      <th>SalePrice</th>\n",
       "    </tr>\n",
       "  </thead>\n",
       "  <tbody>\n",
       "    <tr>\n",
       "      <th>0</th>\n",
       "      <td>1710</td>\n",
       "      <td>3</td>\n",
       "      <td>1</td>\n",
       "      <td>5</td>\n",
       "      <td>1995.0</td>\n",
       "      <td>RFn</td>\n",
       "      <td>Y</td>\n",
       "      <td>2</td>\n",
       "      <td>208500</td>\n",
       "    </tr>\n",
       "    <tr>\n",
       "      <th>1</th>\n",
       "      <td>1262</td>\n",
       "      <td>3</td>\n",
       "      <td>1</td>\n",
       "      <td>8</td>\n",
       "      <td>874.0</td>\n",
       "      <td>RFn</td>\n",
       "      <td>Y</td>\n",
       "      <td>5</td>\n",
       "      <td>181500</td>\n",
       "    </tr>\n",
       "    <tr>\n",
       "      <th>2</th>\n",
       "      <td>1786</td>\n",
       "      <td>3</td>\n",
       "      <td>1</td>\n",
       "      <td>5</td>\n",
       "      <td>1593.0</td>\n",
       "      <td>RFn</td>\n",
       "      <td>Y</td>\n",
       "      <td>9</td>\n",
       "      <td>223500</td>\n",
       "    </tr>\n",
       "    <tr>\n",
       "      <th>3</th>\n",
       "      <td>1717</td>\n",
       "      <td>3</td>\n",
       "      <td>1</td>\n",
       "      <td>5</td>\n",
       "      <td>2566.0</td>\n",
       "      <td>Unf</td>\n",
       "      <td>Y</td>\n",
       "      <td>2</td>\n",
       "      <td>140000</td>\n",
       "    </tr>\n",
       "    <tr>\n",
       "      <th>4</th>\n",
       "      <td>2198</td>\n",
       "      <td>4</td>\n",
       "      <td>1</td>\n",
       "      <td>5</td>\n",
       "      <td>3130.0</td>\n",
       "      <td>RFn</td>\n",
       "      <td>Y</td>\n",
       "      <td>12</td>\n",
       "      <td>250000</td>\n",
       "    </tr>\n",
       "  </tbody>\n",
       "</table>\n",
       "</div>"
      ],
      "text/plain": [
       "   GrLivArea  BedroomAbvGr  KitchenAbvGr  OverallCond  RoofSurface  \\\n",
       "0       1710             3             1            5       1995.0   \n",
       "1       1262             3             1            8        874.0   \n",
       "2       1786             3             1            5       1593.0   \n",
       "3       1717             3             1            5       2566.0   \n",
       "4       2198             4             1            5       3130.0   \n",
       "\n",
       "  GarageFinish CentralAir  MoSold  SalePrice  \n",
       "0          RFn          Y       2     208500  \n",
       "1          RFn          Y       5     181500  \n",
       "2          RFn          Y       9     223500  \n",
       "3          Unf          Y       2     140000  \n",
       "4          RFn          Y      12     250000  "
      ]
     },
     "execution_count": 14,
     "metadata": {},
     "output_type": "execute_result"
    }
   ],
   "source": [
    "data.head()"
   ]
  },
  {
   "cell_type": "markdown",
   "metadata": {},
   "source": [
    "# 3. Feature Scaling\n",
    "\n",
    "\n",
    "**What is Feature Scaling?** \n",
    "\n",
    "Feature Scaling is a technique used to transform features values into a common, smaller range.\n",
    "\n",
    "**Why Feature Scaling?**\n",
    "\n",
    "**1.** `Datasets have many features with a wide range of values` like for example let’s consider our house price prediction dataset. It will have many features like no. of. bedrooms, square feet area of the house, etc.\n",
    "\n",
    "As you can guess, the number of bedrooms will vary between 1 and 5, but the square feet area will range from 500-2000 etc. <u>**This is a huge difference in the range of both features.**</u>\n",
    "\n",
    "`Many machine learning algorithms that are using Euclidean distance as a metric to calculate the similarities will fail to give a reasonable recognition to the smaller feature, in this case, the number of bedrooms, which in the real case can turn out to be an actually important metric.`\n",
    "\n",
    "Eg: Linear Regression, Logistic Regression, KNN\n",
    "\n",
    "\n",
    "**2.** `Another important aspect is that Feature Scaling improves computational efficiency!`\n",
    "\n",
    "**In fact scaling the features makes the flow of gradient descent smooth and helps algorithms quickly reach the minima of the cost function.**\n",
    "\n"
   ]
  },
  {
   "cell_type": "markdown",
   "metadata": {},
   "source": [
    "<h2 style=\"background-color: Orange\">☑️ 3 Possible Scaling Techniques: </h2>\n",
    "\n",
    "\n",
    "\n",
    "**1. Standard Scaling**\n",
    "\n",
    "**2. MinMax Scaling**\n",
    "\n",
    "**3. Robust Scaling**"
   ]
  },
  {
   "cell_type": "markdown",
   "metadata": {},
   "source": [
    "##  1. Standardizing (Standardscaler with Sklearn)\n",
    "\n",
    "Transforms a feature so that it has a mean value of 0 and a standard deviation of 1.\n",
    "\n",
    "In standardization, we calculate the z-value for each of the data points and replaces those with these values."
   ]
  },
  {
   "cell_type": "markdown",
   "metadata": {},
   "source": [
    "<img src=\"https://www.simplypsychology.org/Z-score-formula.jpg\" alt=\"400\" width=\"250\" align=\"left\"/>"
   ]
  },
  {
   "cell_type": "markdown",
   "metadata": {},
   "source": [
    "<h3>The effect of standardization:</h3>"
   ]
  },
  {
   "cell_type": "markdown",
   "metadata": {},
   "source": [
    "<img src=\"https://github.com/lorisliusso/Machine-Learning-with-Python/blob/master/scaling.png?raw=true\" alt=\"400\" width=\"550\" align=\"left\"/>"
   ]
  },
  {
   "cell_type": "markdown",
   "metadata": {},
   "source": [
    "<u>**When use it/PROS ✅**:</u>\n",
    "    \n",
    "Most efficient when data is normally distributed\n",
    "\n",
    "**CONS** ❌:\n",
    "\n",
    "Sensitive to outliers"
   ]
  },
  {
   "cell_type": "markdown",
   "metadata": {},
   "source": [
    "<h2>Normalizing: (MinMaxScaler with Sklearn)</h2>\n",
    "\n",
    "The feature values are compressed in a fixed range [0,1].\n",
    "\n",
    "In min-max you will subtract the minimum value in the dataset with all the values and then divide this by the range of the dataset (maximum-minimum)."
   ]
  },
  {
   "cell_type": "markdown",
   "metadata": {},
   "source": [
    "<img src=\"https://cdn.educba.com/academy/wp-content/uploads/2019/05/Normalization-Formula.jpg\" alt=\"400\" width=\"450\" align=\"left\"/>\n",
    "\n"
   ]
  },
  {
   "cell_type": "markdown",
   "metadata": {},
   "source": [
    "<u>**When use it/PROS ✅**:</u>\n",
    "    \n",
    "Ensures a fixed range, important with distance based algorithms like the K-Nearest Neighbours \n",
    "\n",
    "Use it when we data does not have a normal distribution.\n",
    "\n",
    "**CONS** ❌:\n",
    "    \n",
    "Doesn't reduce the affect of outliers. Normalization is highly affected by outliers.\n",
    "\n",
    "Doesn't correct the skewness of a distribution"
   ]
  },
  {
   "cell_type": "markdown",
   "metadata": {},
   "source": [
    "<img src=\"data:image/png;base64,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\" alt=\"400\" width=\"700\" align=\"left\"/>"
   ]
  },
  {
   "cell_type": "markdown",
   "metadata": {},
   "source": [
    "<h2>Robust Scaling (RobustScaler with Sklearn)</h2>\n",
    "\n",
    "<u>What if you're concerned with outliers?</u> 🧐\n",
    "\n",
    "Robust Scaling uses central tendency metrics that are less sensitive to outliers.\n"
   ]
  },
  {
   "cell_type": "markdown",
   "metadata": {},
   "source": [
    "<img src=\"https://github.com/lorisliusso/Machine-Learning-with-Python/blob/master/Robustscaled.png?raw=true\" alt=\"400\" width=\"500\" align=\"left\"/>\n",
    "\n"
   ]
  },
  {
   "cell_type": "markdown",
   "metadata": {},
   "source": [
    "Robustscaler scales features using statistics that are robust to outliers. This method removes the median and scales the data in the range between 1st quartile and 3rd quartile. i.e., in between 25th quantile and 75th quantile range. This range is also called an Interquartile range. \n",
    "\n",
    "**When use it ✅:**\n",
    "    \n",
    "<u>When data has outliers.</u>"
   ]
  },
  {
   "cell_type": "markdown",
   "metadata": {},
   "source": [
    "# Feature Scaling with Sklearn:"
   ]
  },
  {
   "cell_type": "markdown",
   "metadata": {},
   "source": [
    "##  `RoofSurface` "
   ]
  },
  {
   "cell_type": "markdown",
   "metadata": {},
   "source": [
    "👇 Investigate `RoofSurface` for distribution and outliers. \n",
    "\n",
    "<u>Replace the original columns with the transformed values.</u>"
   ]
  },
  {
   "cell_type": "code",
   "execution_count": 15,
   "metadata": {
    "tags": [
     "challengify"
    ]
   },
   "outputs": [
    {
     "data": {
      "text/plain": [
       "array([[<AxesSubplot:title={'center':'RoofSurface'}>]], dtype=object)"
      ]
     },
     "execution_count": 15,
     "metadata": {},
     "output_type": "execute_result"
    },
    {
     "data": {
      "image/png": "[encoded data removed]",
      "text/plain": [
       "<Figure size 432x288 with 1 Axes>"
      ]
     },
     "metadata": {
      "needs_background": "light"
     },
     "output_type": "display_data"
    },
    {
     "data": {
      "image/png": "[encoded data removed]",
      "text/plain": [
       "<Figure size 432x288 with 1 Axes>"
      ]
     },
     "metadata": {
      "needs_background": "light"
     },
     "output_type": "display_data"
    }
   ],
   "source": [
    "data[['RoofSurface']].boxplot()\n",
    "data[['RoofSurface']].hist(bins=20)"
   ]
  },
  {
   "cell_type": "markdown",
   "metadata": {},
   "source": [
    "**💡 Hint**\n",
    "\n",
    "Since `RoofSurface` does not seem to have a normal distribution, it is better to MinMax scale"
   ]
  },
  {
   "cell_type": "code",
   "execution_count": 16,
   "metadata": {
    "tags": [
     "challengify"
    ]
   },
   "outputs": [
    {
     "data": {
      "text/html": [
       "<div>\n",
       "<style scoped>\n",
       "    .dataframe tbody tr th:only-of-type {\n",
       "        vertical-align: middle;\n",
       "    }\n",
       "\n",
       "    .dataframe tbody tr th {\n",
       "        vertical-align: top;\n",
       "    }\n",
       "\n",
       "    .dataframe thead th {\n",
       "        text-align: right;\n",
       "    }\n",
       "</style>\n",
       "<table border=\"1\" class=\"dataframe\">\n",
       "  <thead>\n",
       "    <tr style=\"text-align: right;\">\n",
       "      <th></th>\n",
       "      <th>GrLivArea</th>\n",
       "      <th>BedroomAbvGr</th>\n",
       "      <th>KitchenAbvGr</th>\n",
       "      <th>OverallCond</th>\n",
       "      <th>RoofSurface</th>\n",
       "      <th>GarageFinish</th>\n",
       "      <th>CentralAir</th>\n",
       "      <th>MoSold</th>\n",
       "      <th>SalePrice</th>\n",
       "    </tr>\n",
       "  </thead>\n",
       "  <tbody>\n",
       "    <tr>\n",
       "      <th>0</th>\n",
       "      <td>1710</td>\n",
       "      <td>3</td>\n",
       "      <td>1</td>\n",
       "      <td>5</td>\n",
       "      <td>0.316729</td>\n",
       "      <td>RFn</td>\n",
       "      <td>Y</td>\n",
       "      <td>2</td>\n",
       "      <td>208500</td>\n",
       "    </tr>\n",
       "    <tr>\n",
       "      <th>1</th>\n",
       "      <td>1262</td>\n",
       "      <td>3</td>\n",
       "      <td>1</td>\n",
       "      <td>8</td>\n",
       "      <td>0.069650</td>\n",
       "      <td>RFn</td>\n",
       "      <td>Y</td>\n",
       "      <td>5</td>\n",
       "      <td>181500</td>\n",
       "    </tr>\n",
       "    <tr>\n",
       "      <th>2</th>\n",
       "      <td>1786</td>\n",
       "      <td>3</td>\n",
       "      <td>1</td>\n",
       "      <td>5</td>\n",
       "      <td>0.228124</td>\n",
       "      <td>RFn</td>\n",
       "      <td>Y</td>\n",
       "      <td>9</td>\n",
       "      <td>223500</td>\n",
       "    </tr>\n",
       "    <tr>\n",
       "      <th>3</th>\n",
       "      <td>1717</td>\n",
       "      <td>3</td>\n",
       "      <td>1</td>\n",
       "      <td>5</td>\n",
       "      <td>0.442583</td>\n",
       "      <td>Unf</td>\n",
       "      <td>Y</td>\n",
       "      <td>2</td>\n",
       "      <td>140000</td>\n",
       "    </tr>\n",
       "    <tr>\n",
       "      <th>4</th>\n",
       "      <td>2198</td>\n",
       "      <td>4</td>\n",
       "      <td>1</td>\n",
       "      <td>5</td>\n",
       "      <td>0.566894</td>\n",
       "      <td>RFn</td>\n",
       "      <td>Y</td>\n",
       "      <td>12</td>\n",
       "      <td>250000</td>\n",
       "    </tr>\n",
       "  </tbody>\n",
       "</table>\n",
       "</div>"
      ],
      "text/plain": [
       "   GrLivArea  BedroomAbvGr  KitchenAbvGr  OverallCond  RoofSurface  \\\n",
       "0       1710             3             1            5     0.316729   \n",
       "1       1262             3             1            8     0.069650   \n",
       "2       1786             3             1            5     0.228124   \n",
       "3       1717             3             1            5     0.442583   \n",
       "4       2198             4             1            5     0.566894   \n",
       "\n",
       "  GarageFinish CentralAir  MoSold  SalePrice  \n",
       "0          RFn          Y       2     208500  \n",
       "1          RFn          Y       5     181500  \n",
       "2          RFn          Y       9     223500  \n",
       "3          Unf          Y       2     140000  \n",
       "4          RFn          Y      12     250000  "
      ]
     },
     "execution_count": 16,
     "metadata": {},
     "output_type": "execute_result"
    }
   ],
   "source": [
    "from sklearn.preprocessing import MinMaxScaler\n",
    "\n",
    "minmaxscaler = MinMaxScaler().fit(data[['RoofSurface']]) # fit: Compute the minimum and maximum to be used for later scaling.\n",
    "\n",
    "data['RoofSurface']= minmaxscaler.transform(data[['RoofSurface']]) #transform data values\n",
    "\n",
    "data.head()"
   ]
  },
  {
   "cell_type": "code",
   "execution_count": 17,
   "metadata": {},
   "outputs": [],
   "source": [
    "#Alternativa: (DIRETTAMENTE USANDO METODO .fit_transform())\n",
    "\n",
    "#minmaxscaler = MinMaxScaler()\n",
    "\n",
    "#data['RoofSurface']= minmaxscaler.fit_transform(data[['RoofSurface']])"
   ]
  },
  {
   "cell_type": "markdown",
   "metadata": {},
   "source": [
    "## `GrLivArea`"
   ]
  },
  {
   "cell_type": "markdown",
   "metadata": {},
   "source": [
    "👇 Investigate `GrLivArea` for distribution and outliers. \n",
    "\n",
    "Replace the original columns with the transformed values."
   ]
  },
  {
   "cell_type": "code",
   "execution_count": 18,
   "metadata": {
    "tags": [
     "challengify"
    ]
   },
   "outputs": [
    {
     "data": {
      "text/plain": [
       "array([[<AxesSubplot:title={'center':'GrLivArea'}>]], dtype=object)"
      ]
     },
     "execution_count": 18,
     "metadata": {},
     "output_type": "execute_result"
    },
    {
     "data": {
      "image/png": "[encoded data removed]",
      "text/plain": [
       "<Figure size 432x288 with 1 Axes>"
      ]
     },
     "metadata": {
      "needs_background": "light"
     },
     "output_type": "display_data"
    },
    {
     "data": {
      "image/png": "[encoded data removed]",
      "text/plain": [
       "<Figure size 432x288 with 1 Axes>"
      ]
     },
     "metadata": {
      "needs_background": "light"
     },
     "output_type": "display_data"
    }
   ],
   "source": [
    "data[['GrLivArea']].boxplot()\n",
    "data[['GrLivArea']].hist(bins=20)"
   ]
  },
  {
   "cell_type": "markdown",
   "metadata": {},
   "source": [
    "**💡 Hint**\n",
    "\n",
    "`GrLivArea` has a normal distribution, and some outliers. It needs to be Robust scaled."
   ]
  },
  {
   "cell_type": "code",
   "execution_count": 19,
   "metadata": {
    "tags": [
     "challengify"
    ]
   },
   "outputs": [
    {
     "data": {
      "text/html": [
       "<div>\n",
       "<style scoped>\n",
       "    .dataframe tbody tr th:only-of-type {\n",
       "        vertical-align: middle;\n",
       "    }\n",
       "\n",
       "    .dataframe tbody tr th {\n",
       "        vertical-align: top;\n",
       "    }\n",
       "\n",
       "    .dataframe thead th {\n",
       "        text-align: right;\n",
       "    }\n",
       "</style>\n",
       "<table border=\"1\" class=\"dataframe\">\n",
       "  <thead>\n",
       "    <tr style=\"text-align: right;\">\n",
       "      <th></th>\n",
       "      <th>GrLivArea</th>\n",
       "      <th>BedroomAbvGr</th>\n",
       "      <th>KitchenAbvGr</th>\n",
       "      <th>OverallCond</th>\n",
       "      <th>RoofSurface</th>\n",
       "      <th>GarageFinish</th>\n",
       "      <th>CentralAir</th>\n",
       "      <th>MoSold</th>\n",
       "      <th>SalePrice</th>\n",
       "    </tr>\n",
       "  </thead>\n",
       "  <tbody>\n",
       "    <tr>\n",
       "      <th>0</th>\n",
       "      <td>0.380070</td>\n",
       "      <td>3</td>\n",
       "      <td>1</td>\n",
       "      <td>5</td>\n",
       "      <td>0.316729</td>\n",
       "      <td>RFn</td>\n",
       "      <td>Y</td>\n",
       "      <td>2</td>\n",
       "      <td>208500</td>\n",
       "    </tr>\n",
       "    <tr>\n",
       "      <th>1</th>\n",
       "      <td>-0.312090</td>\n",
       "      <td>3</td>\n",
       "      <td>1</td>\n",
       "      <td>8</td>\n",
       "      <td>0.069650</td>\n",
       "      <td>RFn</td>\n",
       "      <td>Y</td>\n",
       "      <td>5</td>\n",
       "      <td>181500</td>\n",
       "    </tr>\n",
       "    <tr>\n",
       "      <th>2</th>\n",
       "      <td>0.497489</td>\n",
       "      <td>3</td>\n",
       "      <td>1</td>\n",
       "      <td>5</td>\n",
       "      <td>0.228124</td>\n",
       "      <td>RFn</td>\n",
       "      <td>Y</td>\n",
       "      <td>9</td>\n",
       "      <td>223500</td>\n",
       "    </tr>\n",
       "    <tr>\n",
       "      <th>3</th>\n",
       "      <td>0.390885</td>\n",
       "      <td>3</td>\n",
       "      <td>1</td>\n",
       "      <td>5</td>\n",
       "      <td>0.442583</td>\n",
       "      <td>Unf</td>\n",
       "      <td>Y</td>\n",
       "      <td>2</td>\n",
       "      <td>140000</td>\n",
       "    </tr>\n",
       "    <tr>\n",
       "      <th>4</th>\n",
       "      <td>1.134029</td>\n",
       "      <td>4</td>\n",
       "      <td>1</td>\n",
       "      <td>5</td>\n",
       "      <td>0.566894</td>\n",
       "      <td>RFn</td>\n",
       "      <td>Y</td>\n",
       "      <td>12</td>\n",
       "      <td>250000</td>\n",
       "    </tr>\n",
       "  </tbody>\n",
       "</table>\n",
       "</div>"
      ],
      "text/plain": [
       "   GrLivArea  BedroomAbvGr  KitchenAbvGr  OverallCond  RoofSurface  \\\n",
       "0   0.380070             3             1            5     0.316729   \n",
       "1  -0.312090             3             1            8     0.069650   \n",
       "2   0.497489             3             1            5     0.228124   \n",
       "3   0.390885             3             1            5     0.442583   \n",
       "4   1.134029             4             1            5     0.566894   \n",
       "\n",
       "  GarageFinish CentralAir  MoSold  SalePrice  \n",
       "0          RFn          Y       2     208500  \n",
       "1          RFn          Y       5     181500  \n",
       "2          RFn          Y       9     223500  \n",
       "3          Unf          Y       2     140000  \n",
       "4          RFn          Y      12     250000  "
      ]
     },
     "execution_count": 19,
     "metadata": {},
     "output_type": "execute_result"
    }
   ],
   "source": [
    "from sklearn.preprocessing import RobustScaler\n",
    "\n",
    "rb_scaler = RobustScaler().fit(data[['GrLivArea']])\n",
    "\n",
    "data['GrLivArea'] = rb_scaler.transform(data[['GrLivArea']])\n",
    "\n",
    "data.head()"
   ]
  },
  {
   "cell_type": "markdown",
   "metadata": {},
   "source": [
    "## `BedroomAbvGr` ,  `OverallCond` & `KitchenAbvGr`"
   ]
  },
  {
   "cell_type": "markdown",
   "metadata": {},
   "source": [
    "👇 Investigate `BedroomAbvGr`, `OverallCond` & `KitchenAbvGr`. \n",
    "\n",
    "Replace the original columns with the transformed values."
   ]
  },
  {
   "cell_type": "markdown",
   "metadata": {},
   "source": [
    "**💡 Hint**\n",
    "\n",
    "`BedroomAbvGr` ,  `OverallCond` & `KitchenAbvGr` are ordinal features that can be MinMax scaled.\n"
   ]
  },
  {
   "cell_type": "code",
   "execution_count": 20,
   "metadata": {},
   "outputs": [
    {
     "data": {
      "text/html": [
       "<div>\n",
       "<style scoped>\n",
       "    .dataframe tbody tr th:only-of-type {\n",
       "        vertical-align: middle;\n",
       "    }\n",
       "\n",
       "    .dataframe tbody tr th {\n",
       "        vertical-align: top;\n",
       "    }\n",
       "\n",
       "    .dataframe thead th {\n",
       "        text-align: right;\n",
       "    }\n",
       "</style>\n",
       "<table border=\"1\" class=\"dataframe\">\n",
       "  <thead>\n",
       "    <tr style=\"text-align: right;\">\n",
       "      <th></th>\n",
       "      <th>GrLivArea</th>\n",
       "      <th>BedroomAbvGr</th>\n",
       "      <th>KitchenAbvGr</th>\n",
       "      <th>OverallCond</th>\n",
       "      <th>RoofSurface</th>\n",
       "      <th>GarageFinish</th>\n",
       "      <th>CentralAir</th>\n",
       "      <th>MoSold</th>\n",
       "      <th>SalePrice</th>\n",
       "    </tr>\n",
       "  </thead>\n",
       "  <tbody>\n",
       "    <tr>\n",
       "      <th>0</th>\n",
       "      <td>0.380070</td>\n",
       "      <td>0.375</td>\n",
       "      <td>0.333333</td>\n",
       "      <td>0.500</td>\n",
       "      <td>0.316729</td>\n",
       "      <td>RFn</td>\n",
       "      <td>Y</td>\n",
       "      <td>2</td>\n",
       "      <td>208500</td>\n",
       "    </tr>\n",
       "    <tr>\n",
       "      <th>1</th>\n",
       "      <td>-0.312090</td>\n",
       "      <td>0.375</td>\n",
       "      <td>0.333333</td>\n",
       "      <td>0.875</td>\n",
       "      <td>0.069650</td>\n",
       "      <td>RFn</td>\n",
       "      <td>Y</td>\n",
       "      <td>5</td>\n",
       "      <td>181500</td>\n",
       "    </tr>\n",
       "    <tr>\n",
       "      <th>2</th>\n",
       "      <td>0.497489</td>\n",
       "      <td>0.375</td>\n",
       "      <td>0.333333</td>\n",
       "      <td>0.500</td>\n",
       "      <td>0.228124</td>\n",
       "      <td>RFn</td>\n",
       "      <td>Y</td>\n",
       "      <td>9</td>\n",
       "      <td>223500</td>\n",
       "    </tr>\n",
       "    <tr>\n",
       "      <th>3</th>\n",
       "      <td>0.390885</td>\n",
       "      <td>0.375</td>\n",
       "      <td>0.333333</td>\n",
       "      <td>0.500</td>\n",
       "      <td>0.442583</td>\n",
       "      <td>Unf</td>\n",
       "      <td>Y</td>\n",
       "      <td>2</td>\n",
       "      <td>140000</td>\n",
       "    </tr>\n",
       "    <tr>\n",
       "      <th>4</th>\n",
       "      <td>1.134029</td>\n",
       "      <td>0.500</td>\n",
       "      <td>0.333333</td>\n",
       "      <td>0.500</td>\n",
       "      <td>0.566894</td>\n",
       "      <td>RFn</td>\n",
       "      <td>Y</td>\n",
       "      <td>12</td>\n",
       "      <td>250000</td>\n",
       "    </tr>\n",
       "  </tbody>\n",
       "</table>\n",
       "</div>"
      ],
      "text/plain": [
       "   GrLivArea  BedroomAbvGr  KitchenAbvGr  OverallCond  RoofSurface  \\\n",
       "0   0.380070         0.375      0.333333        0.500     0.316729   \n",
       "1  -0.312090         0.375      0.333333        0.875     0.069650   \n",
       "2   0.497489         0.375      0.333333        0.500     0.228124   \n",
       "3   0.390885         0.375      0.333333        0.500     0.442583   \n",
       "4   1.134029         0.500      0.333333        0.500     0.566894   \n",
       "\n",
       "  GarageFinish CentralAir  MoSold  SalePrice  \n",
       "0          RFn          Y       2     208500  \n",
       "1          RFn          Y       5     181500  \n",
       "2          RFn          Y       9     223500  \n",
       "3          Unf          Y       2     140000  \n",
       "4          RFn          Y      12     250000  "
      ]
     },
     "execution_count": 20,
     "metadata": {},
     "output_type": "execute_result"
    }
   ],
   "source": [
    "minmaxscaler_2 = MinMaxScaler()\n",
    "\n",
    "data[['BedroomAbvGr','OverallCond','KitchenAbvGr']] =  minmaxscaler_2.fit_transform(data[['BedroomAbvGr','OverallCond','KitchenAbvGr']])\n",
    "\n",
    "data.head()"
   ]
  },
  {
   "cell_type": "markdown",
   "metadata": {},
   "source": [
    "# 4. Encoding\n",
    "\n",
    "<u>Since most machine learning models only accept numerical variables, preprocessing the categorical variables becomes a necessary step. </u>\n",
    "\n",
    "**We need to convert these categorical variables to numbers such that the model is able to understand and extract valuable information.**\n",
    "\n",
    "Encoding consists of transforming non-numerical data/categorical data to an equivalent numerical form.\n",
    "\n",
    "<u>Useful source:</u> \"https://www.analyticsvidhya.com/blog/2020/03/one-hot-encoding-vs-label-encoding-using-scikit-learn/\"\n",
    "\n",
    "\n",
    "<h2 style=\"background-color: pink\">☑️2 Main Techniques: </h2>\n",
    "\n",
    "**1. One-Hot Encoding**\n",
    "\n",
    "**2. Ordinal Encoding**"
   ]
  },
  {
   "cell_type": "markdown",
   "metadata": {},
   "source": [
    "# One Hot Encoding\n",
    "\n",
    "**We use this categorical data encoding technique when the categorical features are `nominal` (do not have any order).** \n",
    "\n",
    "In one hot encoding, for each level of a categorical feature, we create a new variable. \n",
    "\n",
    "**Each category is mapped with a binary variable containing either 0 or 1. Here, 0 represents the absence, and 1 represents the presence of that category.**\n",
    "\n",
    "These newly created binary features are known as Dummy variables. The number of dummy variables depends on the levels present in the categorical variable."
   ]
  },
  {
   "cell_type": "markdown",
   "metadata": {},
   "source": [
    "<img src=\"https://miro.medium.com/max/1400/1*ggtP4a5YaRx6l09KQaYOnw.png\" alt=\"400\" width=\"800\" align=\"left\"/>\n",
    "\n"
   ]
  },
  {
   "cell_type": "markdown",
   "metadata": {},
   "source": [
    "# Ordinal Encoding\n",
    "\n",
    "<u>We use this categorical data encoding technique when the categorical features are `ordinal`.</u>\n",
    "\n",
    "In this case, retaining <u>**the order is important**</u>. Hence encoding should reflect the sequence."
   ]
  },
  {
   "cell_type": "markdown",
   "metadata": {},
   "source": [
    "<img src=\"https://github.com/lorisliusso/Machine-Learning-with-Python/blob/master/ordinal_encoding.png?raw=true\" alt=\"400\" width=\"400\" align=\"left\"/>\n"
   ]
  },
  {
   "cell_type": "markdown",
   "metadata": {},
   "source": [
    "# Encoding with Sklearn:"
   ]
  },
  {
   "cell_type": "markdown",
   "metadata": {},
   "source": [
    "## `GarageFinish`"
   ]
  },
  {
   "cell_type": "markdown",
   "metadata": {},
   "source": [
    "👇 Investigate `GarageFinish` and choose one of the following encoding techniques accordingly:\n",
    "- Ordinal encoding\n",
    "- One-Hot encoding\n",
    "\n",
    "**Add the encoding to the dataframe as new colum(s), and remove the original column.**\n"
   ]
  },
  {
   "cell_type": "markdown",
   "metadata": {},
   "source": [
    "**💡 Hint**\n",
    "\n",
    "`GarageFinish` ***is a multicategorical feature that must be One hot encoded.***\n"
   ]
  },
  {
   "cell_type": "code",
   "execution_count": 21,
   "metadata": {},
   "outputs": [
    {
     "data": {
      "text/html": [
       "<div>\n",
       "<style scoped>\n",
       "    .dataframe tbody tr th:only-of-type {\n",
       "        vertical-align: middle;\n",
       "    }\n",
       "\n",
       "    .dataframe tbody tr th {\n",
       "        vertical-align: top;\n",
       "    }\n",
       "\n",
       "    .dataframe thead th {\n",
       "        text-align: right;\n",
       "    }\n",
       "</style>\n",
       "<table border=\"1\" class=\"dataframe\">\n",
       "  <thead>\n",
       "    <tr style=\"text-align: right;\">\n",
       "      <th></th>\n",
       "      <th>GrLivArea</th>\n",
       "      <th>BedroomAbvGr</th>\n",
       "      <th>KitchenAbvGr</th>\n",
       "      <th>OverallCond</th>\n",
       "      <th>RoofSurface</th>\n",
       "      <th>GarageFinish</th>\n",
       "      <th>CentralAir</th>\n",
       "      <th>MoSold</th>\n",
       "      <th>SalePrice</th>\n",
       "    </tr>\n",
       "  </thead>\n",
       "  <tbody>\n",
       "    <tr>\n",
       "      <th>0</th>\n",
       "      <td>0.380070</td>\n",
       "      <td>0.375</td>\n",
       "      <td>0.333333</td>\n",
       "      <td>0.500</td>\n",
       "      <td>0.316729</td>\n",
       "      <td>RFn</td>\n",
       "      <td>Y</td>\n",
       "      <td>2</td>\n",
       "      <td>208500</td>\n",
       "    </tr>\n",
       "    <tr>\n",
       "      <th>1</th>\n",
       "      <td>-0.312090</td>\n",
       "      <td>0.375</td>\n",
       "      <td>0.333333</td>\n",
       "      <td>0.875</td>\n",
       "      <td>0.069650</td>\n",
       "      <td>RFn</td>\n",
       "      <td>Y</td>\n",
       "      <td>5</td>\n",
       "      <td>181500</td>\n",
       "    </tr>\n",
       "    <tr>\n",
       "      <th>2</th>\n",
       "      <td>0.497489</td>\n",
       "      <td>0.375</td>\n",
       "      <td>0.333333</td>\n",
       "      <td>0.500</td>\n",
       "      <td>0.228124</td>\n",
       "      <td>RFn</td>\n",
       "      <td>Y</td>\n",
       "      <td>9</td>\n",
       "      <td>223500</td>\n",
       "    </tr>\n",
       "    <tr>\n",
       "      <th>3</th>\n",
       "      <td>0.390885</td>\n",
       "      <td>0.375</td>\n",
       "      <td>0.333333</td>\n",
       "      <td>0.500</td>\n",
       "      <td>0.442583</td>\n",
       "      <td>Unf</td>\n",
       "      <td>Y</td>\n",
       "      <td>2</td>\n",
       "      <td>140000</td>\n",
       "    </tr>\n",
       "    <tr>\n",
       "      <th>4</th>\n",
       "      <td>1.134029</td>\n",
       "      <td>0.500</td>\n",
       "      <td>0.333333</td>\n",
       "      <td>0.500</td>\n",
       "      <td>0.566894</td>\n",
       "      <td>RFn</td>\n",
       "      <td>Y</td>\n",
       "      <td>12</td>\n",
       "      <td>250000</td>\n",
       "    </tr>\n",
       "  </tbody>\n",
       "</table>\n",
       "</div>"
      ],
      "text/plain": [
       "   GrLivArea  BedroomAbvGr  KitchenAbvGr  OverallCond  RoofSurface  \\\n",
       "0   0.380070         0.375      0.333333        0.500     0.316729   \n",
       "1  -0.312090         0.375      0.333333        0.875     0.069650   \n",
       "2   0.497489         0.375      0.333333        0.500     0.228124   \n",
       "3   0.390885         0.375      0.333333        0.500     0.442583   \n",
       "4   1.134029         0.500      0.333333        0.500     0.566894   \n",
       "\n",
       "  GarageFinish CentralAir  MoSold  SalePrice  \n",
       "0          RFn          Y       2     208500  \n",
       "1          RFn          Y       5     181500  \n",
       "2          RFn          Y       9     223500  \n",
       "3          Unf          Y       2     140000  \n",
       "4          RFn          Y      12     250000  "
      ]
     },
     "execution_count": 21,
     "metadata": {},
     "output_type": "execute_result"
    }
   ],
   "source": [
    "data.head()"
   ]
  },
  {
   "cell_type": "code",
   "execution_count": 22,
   "metadata": {},
   "outputs": [
    {
     "data": {
      "text/plain": [
       "array(['RFn', 'Unf', 'Fin', 'NoGarage'], dtype=object)"
      ]
     },
     "execution_count": 22,
     "metadata": {},
     "output_type": "execute_result"
    }
   ],
   "source": [
    "data['GarageFinish'].unique() # Check unique categories in GarageFinish"
   ]
  },
  {
   "cell_type": "code",
   "execution_count": 23,
   "metadata": {},
   "outputs": [
    {
     "data": {
      "text/html": [
       "<div>\n",
       "<style scoped>\n",
       "    .dataframe tbody tr th:only-of-type {\n",
       "        vertical-align: middle;\n",
       "    }\n",
       "\n",
       "    .dataframe tbody tr th {\n",
       "        vertical-align: top;\n",
       "    }\n",
       "\n",
       "    .dataframe thead th {\n",
       "        text-align: right;\n",
       "    }\n",
       "</style>\n",
       "<table border=\"1\" class=\"dataframe\">\n",
       "  <thead>\n",
       "    <tr style=\"text-align: right;\">\n",
       "      <th></th>\n",
       "      <th>GrLivArea</th>\n",
       "      <th>BedroomAbvGr</th>\n",
       "      <th>KitchenAbvGr</th>\n",
       "      <th>OverallCond</th>\n",
       "      <th>RoofSurface</th>\n",
       "      <th>CentralAir</th>\n",
       "      <th>MoSold</th>\n",
       "      <th>SalePrice</th>\n",
       "      <th>Fin</th>\n",
       "      <th>NoGarage</th>\n",
       "      <th>RFn</th>\n",
       "      <th>Unf</th>\n",
       "    </tr>\n",
       "  </thead>\n",
       "  <tbody>\n",
       "    <tr>\n",
       "      <th>0</th>\n",
       "      <td>0.380070</td>\n",
       "      <td>0.375</td>\n",
       "      <td>0.333333</td>\n",
       "      <td>0.500</td>\n",
       "      <td>0.316729</td>\n",
       "      <td>Y</td>\n",
       "      <td>2</td>\n",
       "      <td>208500</td>\n",
       "      <td>0.0</td>\n",
       "      <td>0.0</td>\n",
       "      <td>1.0</td>\n",
       "      <td>0.0</td>\n",
       "    </tr>\n",
       "    <tr>\n",
       "      <th>1</th>\n",
       "      <td>-0.312090</td>\n",
       "      <td>0.375</td>\n",
       "      <td>0.333333</td>\n",
       "      <td>0.875</td>\n",
       "      <td>0.069650</td>\n",
       "      <td>Y</td>\n",
       "      <td>5</td>\n",
       "      <td>181500</td>\n",
       "      <td>0.0</td>\n",
       "      <td>0.0</td>\n",
       "      <td>1.0</td>\n",
       "      <td>0.0</td>\n",
       "    </tr>\n",
       "    <tr>\n",
       "      <th>2</th>\n",
       "      <td>0.497489</td>\n",
       "      <td>0.375</td>\n",
       "      <td>0.333333</td>\n",
       "      <td>0.500</td>\n",
       "      <td>0.228124</td>\n",
       "      <td>Y</td>\n",
       "      <td>9</td>\n",
       "      <td>223500</td>\n",
       "      <td>0.0</td>\n",
       "      <td>0.0</td>\n",
       "      <td>1.0</td>\n",
       "      <td>0.0</td>\n",
       "    </tr>\n",
       "    <tr>\n",
       "      <th>3</th>\n",
       "      <td>0.390885</td>\n",
       "      <td>0.375</td>\n",
       "      <td>0.333333</td>\n",
       "      <td>0.500</td>\n",
       "      <td>0.442583</td>\n",
       "      <td>Y</td>\n",
       "      <td>2</td>\n",
       "      <td>140000</td>\n",
       "      <td>0.0</td>\n",
       "      <td>0.0</td>\n",
       "      <td>0.0</td>\n",
       "      <td>1.0</td>\n",
       "    </tr>\n",
       "    <tr>\n",
       "      <th>4</th>\n",
       "      <td>1.134029</td>\n",
       "      <td>0.500</td>\n",
       "      <td>0.333333</td>\n",
       "      <td>0.500</td>\n",
       "      <td>0.566894</td>\n",
       "      <td>Y</td>\n",
       "      <td>12</td>\n",
       "      <td>250000</td>\n",
       "      <td>0.0</td>\n",
       "      <td>0.0</td>\n",
       "      <td>1.0</td>\n",
       "      <td>0.0</td>\n",
       "    </tr>\n",
       "  </tbody>\n",
       "</table>\n",
       "</div>"
      ],
      "text/plain": [
       "   GrLivArea  BedroomAbvGr  KitchenAbvGr  OverallCond  RoofSurface CentralAir  \\\n",
       "0   0.380070         0.375      0.333333        0.500     0.316729          Y   \n",
       "1  -0.312090         0.375      0.333333        0.875     0.069650          Y   \n",
       "2   0.497489         0.375      0.333333        0.500     0.228124          Y   \n",
       "3   0.390885         0.375      0.333333        0.500     0.442583          Y   \n",
       "4   1.134029         0.500      0.333333        0.500     0.566894          Y   \n",
       "\n",
       "   MoSold  SalePrice  Fin  NoGarage  RFn  Unf  \n",
       "0       2     208500  0.0       0.0  1.0  0.0  \n",
       "1       5     181500  0.0       0.0  1.0  0.0  \n",
       "2       9     223500  0.0       0.0  1.0  0.0  \n",
       "3       2     140000  0.0       0.0  0.0  1.0  \n",
       "4      12     250000  0.0       0.0  1.0  0.0  "
      ]
     },
     "execution_count": 23,
     "metadata": {},
     "output_type": "execute_result"
    }
   ],
   "source": [
    "from sklearn.preprocessing import OneHotEncoder\n",
    "\n",
    "GarageFinish_ohe = OneHotEncoder(sparse=False) # Instanciate One hot encoder, \"sparse\" -> Will return sparse matrix if set True else will return an array\n",
    "\n",
    "# Put encoded columns back in dataframe (remember: ndarray.T, The transposed array)\n",
    "\n",
    "data['Fin'],data['NoGarage'],data['RFn'],data['Unf']  = GarageFinish_ohe.fit_transform(data[['GarageFinish']]).T # Put encoded columns back in dataframe\n",
    "\n",
    "data.drop(columns=['GarageFinish'], inplace = True) # Drop original column\n",
    "\n",
    "data.head()"
   ]
  },
  {
   "cell_type": "markdown",
   "metadata": {},
   "source": [
    "## Encoding  `CentralAir`"
   ]
  },
  {
   "cell_type": "markdown",
   "metadata": {},
   "source": [
    "👇 Investigate `CentralAir` and choose one of the following encoding techniques accordingly:\n",
    "- Ordinal encoding\n",
    "- One-Hot encoding\n",
    "\n",
    "Replace the original column with the newly generated encoded columns.\n"
   ]
  },
  {
   "cell_type": "markdown",
   "metadata": {},
   "source": [
    "**💡 Hint**\n",
    "`CentralAir` ***is a binary categorical feature.***\n"
   ]
  },
  {
   "cell_type": "code",
   "execution_count": 24,
   "metadata": {},
   "outputs": [
    {
     "data": {
      "text/plain": [
       "array(['Y', 'N'], dtype=object)"
      ]
     },
     "execution_count": 24,
     "metadata": {},
     "output_type": "execute_result"
    }
   ],
   "source": [
    "data['CentralAir'].unique() # Check unique values of CentralAir"
   ]
  },
  {
   "cell_type": "code",
   "execution_count": 25,
   "metadata": {
    "tags": [
     "challengify"
    ]
   },
   "outputs": [
    {
     "data": {
      "text/html": [
       "<div>\n",
       "<style scoped>\n",
       "    .dataframe tbody tr th:only-of-type {\n",
       "        vertical-align: middle;\n",
       "    }\n",
       "\n",
       "    .dataframe tbody tr th {\n",
       "        vertical-align: top;\n",
       "    }\n",
       "\n",
       "    .dataframe thead th {\n",
       "        text-align: right;\n",
       "    }\n",
       "</style>\n",
       "<table border=\"1\" class=\"dataframe\">\n",
       "  <thead>\n",
       "    <tr style=\"text-align: right;\">\n",
       "      <th></th>\n",
       "      <th>GrLivArea</th>\n",
       "      <th>BedroomAbvGr</th>\n",
       "      <th>KitchenAbvGr</th>\n",
       "      <th>OverallCond</th>\n",
       "      <th>RoofSurface</th>\n",
       "      <th>CentralAir</th>\n",
       "      <th>MoSold</th>\n",
       "      <th>SalePrice</th>\n",
       "      <th>Fin</th>\n",
       "      <th>NoGarage</th>\n",
       "      <th>RFn</th>\n",
       "      <th>Unf</th>\n",
       "    </tr>\n",
       "  </thead>\n",
       "  <tbody>\n",
       "    <tr>\n",
       "      <th>0</th>\n",
       "      <td>0.380070</td>\n",
       "      <td>0.375</td>\n",
       "      <td>0.333333</td>\n",
       "      <td>0.500</td>\n",
       "      <td>0.316729</td>\n",
       "      <td>1.0</td>\n",
       "      <td>2</td>\n",
       "      <td>208500</td>\n",
       "      <td>0.0</td>\n",
       "      <td>0.0</td>\n",
       "      <td>1.0</td>\n",
       "      <td>0.0</td>\n",
       "    </tr>\n",
       "    <tr>\n",
       "      <th>1</th>\n",
       "      <td>-0.312090</td>\n",
       "      <td>0.375</td>\n",
       "      <td>0.333333</td>\n",
       "      <td>0.875</td>\n",
       "      <td>0.069650</td>\n",
       "      <td>1.0</td>\n",
       "      <td>5</td>\n",
       "      <td>181500</td>\n",
       "      <td>0.0</td>\n",
       "      <td>0.0</td>\n",
       "      <td>1.0</td>\n",
       "      <td>0.0</td>\n",
       "    </tr>\n",
       "    <tr>\n",
       "      <th>2</th>\n",
       "      <td>0.497489</td>\n",
       "      <td>0.375</td>\n",
       "      <td>0.333333</td>\n",
       "      <td>0.500</td>\n",
       "      <td>0.228124</td>\n",
       "      <td>1.0</td>\n",
       "      <td>9</td>\n",
       "      <td>223500</td>\n",
       "      <td>0.0</td>\n",
       "      <td>0.0</td>\n",
       "      <td>1.0</td>\n",
       "      <td>0.0</td>\n",
       "    </tr>\n",
       "    <tr>\n",
       "      <th>3</th>\n",
       "      <td>0.390885</td>\n",
       "      <td>0.375</td>\n",
       "      <td>0.333333</td>\n",
       "      <td>0.500</td>\n",
       "      <td>0.442583</td>\n",
       "      <td>1.0</td>\n",
       "      <td>2</td>\n",
       "      <td>140000</td>\n",
       "      <td>0.0</td>\n",
       "      <td>0.0</td>\n",
       "      <td>0.0</td>\n",
       "      <td>1.0</td>\n",
       "    </tr>\n",
       "    <tr>\n",
       "      <th>4</th>\n",
       "      <td>1.134029</td>\n",
       "      <td>0.500</td>\n",
       "      <td>0.333333</td>\n",
       "      <td>0.500</td>\n",
       "      <td>0.566894</td>\n",
       "      <td>1.0</td>\n",
       "      <td>12</td>\n",
       "      <td>250000</td>\n",
       "      <td>0.0</td>\n",
       "      <td>0.0</td>\n",
       "      <td>1.0</td>\n",
       "      <td>0.0</td>\n",
       "    </tr>\n",
       "  </tbody>\n",
       "</table>\n",
       "</div>"
      ],
      "text/plain": [
       "   GrLivArea  BedroomAbvGr  KitchenAbvGr  OverallCond  RoofSurface  \\\n",
       "0   0.380070         0.375      0.333333        0.500     0.316729   \n",
       "1  -0.312090         0.375      0.333333        0.875     0.069650   \n",
       "2   0.497489         0.375      0.333333        0.500     0.228124   \n",
       "3   0.390885         0.375      0.333333        0.500     0.442583   \n",
       "4   1.134029         0.500      0.333333        0.500     0.566894   \n",
       "\n",
       "   CentralAir  MoSold  SalePrice  Fin  NoGarage  RFn  Unf  \n",
       "0         1.0       2     208500  0.0       0.0  1.0  0.0  \n",
       "1         1.0       5     181500  0.0       0.0  1.0  0.0  \n",
       "2         1.0       9     223500  0.0       0.0  1.0  0.0  \n",
       "3         1.0       2     140000  0.0       0.0  0.0  1.0  \n",
       "4         1.0      12     250000  0.0       0.0  1.0  0.0  "
      ]
     },
     "execution_count": 25,
     "metadata": {},
     "output_type": "execute_result"
    }
   ],
   "source": [
    "CentralAir_encoder = OneHotEncoder(sparse=False, drop='if_binary', categories=[['N', 'Y']]) # Instanciate encoder\n",
    "\n",
    "data['CentralAir'] = CentralAir_encoder.fit_transform(data[['CentralAir']]) # Fit encoder and tranform\n",
    "\n",
    "data.head()"
   ]
  },
  {
   "cell_type": "code",
   "execution_count": 26,
   "metadata": {},
   "outputs": [
    {
     "data": {
      "text/plain": [
       "array([1., 0.])"
      ]
     },
     "execution_count": 26,
     "metadata": {},
     "output_type": "execute_result"
    }
   ],
   "source": [
    "data['CentralAir'].unique()"
   ]
  },
  {
   "cell_type": "markdown",
   "metadata": {},
   "source": [
    "## `MoSold` - Cyclical Feature Encoding ⏲ 📅"
   ]
  },
  {
   "cell_type": "markdown",
   "metadata": {},
   "source": [
    "Data can be continuous, discrete, categorical, ordinal, but it can also be cyclical. Temporal data is a prime example of that: months, days, minutes. \n",
    "\n",
    "**Such data needs specific preprocessing for Machine Learning models to understand and consider its cyclical nature.**"
   ]
  },
  {
   "cell_type": "markdown",
   "metadata": {},
   "source": [
    "Consider the feature `MoSold`, the month on which the house was sold. If left as is, a model would not understand that after 12 (December) comes 1 (January). It would only consider the values on a linear scale.\n",
    "\n",
    "The issue here is that the model would consider the difference between 12 and 1 as a 11 gap whereas they is only 1 value apart!"
   ]
  },
  {
   "cell_type": "markdown",
   "metadata": {},
   "source": [
    "**💡 Hint**\n",
    "\n",
    "This <a href='https://ianlondon.github.io/blog/encoding-cyclical-features-24hour-time' target='blank'>article</a> explains how to deal with cyclical features.\n"
   ]
  },
  {
   "cell_type": "markdown",
   "metadata": {},
   "source": [
    "## ❓ We will use SINE and COSINE! 🦾"
   ]
  },
  {
   "cell_type": "markdown",
   "metadata": {},
   "source": [
    "### `Advantages of \"sine\" and \"cosine\"`: ✅\n",
    "\n",
    "\n",
    "- The sine and cosine functions are **periodic**;\n",
    "\n",
    "- **They are orthogonal** to each other and cannot be generated from each other.\n",
    "\n",
    "- **They are operating in [-1, 1] range** which you don't need to normalize in most cases.\n",
    "\n",
    "- Last but not least, if you utilize them together to compose a **2D vector, they can form an unit circle**."
   ]
  },
  {
   "cell_type": "markdown",
   "metadata": {},
   "source": [
    "### Let's first normalize MoSold values between 0 to 2π and then calculate cosine! 〰️"
   ]
  },
  {
   "cell_type": "markdown",
   "metadata": {},
   "source": [
    "<img src=\"https://miro.medium.com/max/1400/1*7Y-jyZsaXraHq9IUOVXUBQ.gif\" alt=\"400\" width=\"600\" align=\"left\"/>\n"
   ]
  },
  {
   "cell_type": "markdown",
   "metadata": {},
   "source": [
    "We will run the cosine function after normalizing x between 0 to 2π, which corresponds to one cosine cycle."
   ]
  },
  {
   "cell_type": "code",
   "execution_count": 27,
   "metadata": {},
   "outputs": [],
   "source": [
    "# We normalize x values to match with the 0-2π cycle\n",
    "\n",
    "data[\"MoSold\"] = 2 * np.pi * (data[\"MoSold\"] / data[\"MoSold\"].max())"
   ]
  },
  {
   "cell_type": "code",
   "execution_count": 28,
   "metadata": {},
   "outputs": [],
   "source": [
    "data['cos_MoSold'] = np.cos(data['MoSold']) #calculate cosine"
   ]
  },
  {
   "cell_type": "code",
   "execution_count": 29,
   "metadata": {},
   "outputs": [
    {
     "data": {
      "image/png": "[encoded data removed]",
      "text/plain": [
       "<Figure size 864x432 with 1 Axes>"
      ]
     },
     "metadata": {
      "needs_background": "light"
     },
     "output_type": "display_data"
    }
   ],
   "source": [
    "import matplotlib.pyplot as plt \n",
    "import seaborn as sns\n",
    "\n",
    "plt.figure(figsize=(12,6))\n",
    "\n",
    "plt.grid()\n",
    "\n",
    "sns.scatterplot(x=data['MoSold'], y=data['cos_MoSold'], data=data, s=100)\n",
    "\n",
    "plt.show()"
   ]
  },
  {
   "cell_type": "markdown",
   "metadata": {},
   "source": [
    "### But do you see the new issue we have created? 🤔\n",
    "\n",
    "Two different months would get the same value ❗️"
   ]
  },
  {
   "cell_type": "markdown",
   "metadata": {},
   "source": [
    "The best way to solve this new problem would be to add another cyclical information to <u>distinguish two times with identical cosine values. We could think of it as a two-axis coordinates system.</u>\n",
    "\n",
    "**This is probably the right time to call cosine’s brother: SINE!**"
   ]
  },
  {
   "cell_type": "code",
   "execution_count": 30,
   "metadata": {
    "tags": [
     "challengify"
    ]
   },
   "outputs": [],
   "source": [
    "data['sin_MoSold'] = np.sin(data['MoSold'])  #calculate sine"
   ]
  },
  {
   "cell_type": "code",
   "execution_count": null,
   "metadata": {},
   "outputs": [],
   "source": [
    "plt.figure(figsize=(12,6))\n",
    "\n",
    "sns.scatterplot(x=data['MoSold'], y=data['cos_MoSold'], data=data, s=100)\n",
    "sns.scatterplot(x=data['MoSold'], y=data['sin_MoSold'], data=data, s=100)\n",
    "\n",
    "plt.xlabel('Cosine and Sine functions (y) on the 0-2π cycle')\n",
    "\n",
    "plt.grid()\n",
    "\n",
    "plt.show()\n"
   ]
  },
  {
   "cell_type": "markdown",
   "metadata": {},
   "source": [
    "#### By converting the original values to their corresponding cosine and sine values, we can now assign different coordinates for every month!"
   ]
  },
  {
   "cell_type": "code",
   "execution_count": null,
   "metadata": {},
   "outputs": [],
   "source": [
    "import matplotlib.pyplot as plt\n",
    "\n",
    "plt.figure(figsize=(6,6))\n",
    "\n",
    "sns.scatterplot(x=data['cos_MoSold'], y=data['sin_MoSold'], data=data, s=100)\n",
    "\n",
    "plt.show()"
   ]
  },
  {
   "cell_type": "code",
   "execution_count": null,
   "metadata": {},
   "outputs": [],
   "source": [
    "data.drop(columns=['MoSold'], inplace=True) #drop original column\n",
    "\n",
    "data.head()"
   ]
  },
  {
   "cell_type": "markdown",
   "metadata": {},
   "source": [
    "### Is this encoding system perfect? Unfortunately no and here are some reasons why:\n",
    "\n",
    "- You are converting one information into two features, which will mathematically assign more weight to it from the algorithm perspective.\n",
    "\n",
    "\n",
    "- Decision trees based algorithms (Random Forest, Gradient Boosted Trees, XGBoost) build their split rules according to one feature at a time. This means that they will fail to process these two features simultaneously whereas the cos/sin values are expected to be considered as one single coordinates system."
   ]
  },
  {
   "cell_type": "markdown",
   "metadata": {},
   "source": [
    "# 5. Feature Selection"
   ]
  },
  {
   "cell_type": "markdown",
   "metadata": {},
   "source": [
    "# Collinearity investigation ❗️\n"
   ]
  },
  {
   "cell_type": "markdown",
   "metadata": {},
   "source": [
    "**What is correlation?**\n",
    "\n",
    "**The correlation between two variables can be measured with a correlation coefficient which can range between -1 to 1.** \n",
    "\n",
    "<u>If the value is 0, the two variables are independent and there is no correlation.</u>\n",
    "\n",
    "`If the measure is extremely close to one of these values, it indicates a linear relationship and highly correlated with each other.` \n",
    "\n",
    "This means a change in one variable is associated with a significant change in other variables.\n",
    "\n",
    "\n",
    "**👉 What is Multicollinearity?**\n",
    "\n",
    "\n",
    "<u>Multicollinearity occurs when two or more independent variables are highly correlated with one another in a regression model which impacts the overall interpretation of the results.</u>\n",
    "\n",
    "The problem is that we would not be able to examine the individual explanation of the independent variables on the dependent variable.\n",
    "\n",
    "**👉 When to fix Multicollinearity?**\n",
    "\n",
    "The good news is that it is not always mandatory to fix the multicollinearity. It all depends on the primary goal of the regression model.\n",
    "\n",
    "The degree of multicollinearity greatly impacts the p-values and coefficients but not predictions and goodness-of-fit test. If your goal is to perform the predictions and not necessary to understand the significance of the independent variable, it is not a mandate to fix the multicollinearity issue.\n",
    "\n",
    "**👉 How to test Multicollinearity?**\n",
    "\n",
    "- `Correlation matrix `\n",
    "- `Variation Inflation Factor (VIF)`"
   ]
  },
  {
   "cell_type": "markdown",
   "metadata": {},
   "source": [
    "## Correlation Matrix"
   ]
  },
  {
   "cell_type": "markdown",
   "metadata": {},
   "source": [
    "👇 Plot a heatmap of the Pearson Correlation between the dataset columns."
   ]
  },
  {
   "cell_type": "code",
   "execution_count": null,
   "metadata": {},
   "outputs": [],
   "source": [
    "import matplotlib.pyplot as plt\n",
    "import seaborn as sns\n",
    "\n",
    "corr = data.corr() # Pearson Correlation\n",
    "\n",
    "plt.figure(figsize=(12, 10))\n",
    "\n",
    "# Heatmap\n",
    "\n",
    "sns.heatmap(\n",
    "    corr, \n",
    "    vmin=-1, vmax=1, center=0, annot=True,\n",
    "    cmap=sns.diverging_palette(20, 220, n=200),\n",
    "    square=True\n",
    ")\n",
    "\n",
    "plt.title('Correlation Matrix')\n",
    "\n",
    "plt.show()"
   ]
  },
  {
   "cell_type": "markdown",
   "metadata": {},
   "source": [
    "👇 **Visualize the correlation between column pairs in dataframe:**"
   ]
  },
  {
   "cell_type": "code",
   "execution_count": null,
   "metadata": {
    "tags": [
     "challengify"
    ]
   },
   "outputs": [],
   "source": [
    "corr_df = corr.unstack().reset_index() # Unstack correlation matrix \n",
    "\n",
    "corr_df.columns = ['feature_1','feature_2', 'correlation'] # rename columns\n",
    "\n",
    "corr_df.sort_values(by=\"correlation\",ascending=False, inplace=True) # sort by correlation\n",
    "\n",
    "corr_df = corr_df[corr_df['feature_1'] != corr_df['feature_2']] # Remove self correlation\n",
    "\n",
    "corr_df.head(10)"
   ]
  },
  {
   "cell_type": "markdown",
   "metadata": {},
   "source": [
    "## Variance Inflation Factor (VIF)\n",
    "\n",
    "<u>The second metric for gauging multicollinearity is the variance inflation factor (VIF). </u>\n",
    "\n",
    "**The VIF directly measures the ratio of the variance of the entire model to the variance of a model with only the feature in question.**\n",
    "\n",
    "In layman’s terms, it gauges how much a feature’s inclusion contributes to the overall variance of the coefficients of the features in the model.\n",
    "\n",
    "- VIF starts at 1 and has no upper limit\n",
    "- VIF = 1, no correlation between the independent variable and the other variables\n",
    "- **VIF exceeding 5 or 10 indicates high multicollinearity between this independent variable and the others.**"
   ]
  },
  {
   "cell_type": "code",
   "execution_count": null,
   "metadata": {},
   "outputs": [],
   "source": [
    "# Import library for VIF\n",
    "from statsmodels.stats.outliers_influence import variance_inflation_factor\n",
    "\n",
    "def calc_vif(X):\n",
    "\n",
    "    # Calculating VIF\n",
    "    vif = pd.DataFrame()\n",
    "    vif[\"variables\"] = X.columns\n",
    "    vif[\"VIF\"] = [variance_inflation_factor(X.values, i) for i in range(X.shape[1])]\n",
    "    vif= vif.sort_values(by=['VIF'], ascending=False) #ascending order\n",
    "\n",
    "    return(vif)"
   ]
  },
  {
   "cell_type": "code",
   "execution_count": null,
   "metadata": {},
   "outputs": [],
   "source": [
    "X = data.drop(columns=['SalePrice'])"
   ]
  },
  {
   "cell_type": "code",
   "execution_count": null,
   "metadata": {},
   "outputs": [],
   "source": [
    "calc_vif(X)"
   ]
  },
  {
   "cell_type": "markdown",
   "metadata": {},
   "source": [
    "**We can see here that the ‘Fin’,‘RFn’,‘Unf’ and ‘NoGarage’ have a high VIF value, meaning they can be predicted by other independent variables in the dataset.**"
   ]
  },
  {
   "cell_type": "markdown",
   "metadata": {},
   "source": [
    "### `Challenges of One-Hot Encoding: Dummy Variable Trap`\n",
    "    \n",
    "***One-Hot Encoding results in a Dummy Variable Trap as the outcome of one variable can easily be predicted with the help of the remaining variables.***\n",
    "\n",
    "<u>Dummy Variable Trap is a scenario in which variables are highly correlated to each other.</u>\n",
    "\n",
    "**The Dummy Variable Trap leads to the problem known as multicollinearity**. \n",
    "\n",
    "Multicollinearity occurs where there is a dependency between the independent features.\n",
    "\n",
    "Multicollinearity is a serious issue in machine learning models like Linear Regression and Logistic Regression.\n",
    "\n",
    "**`So, in order to overcome the problem of multicollinearity, one of the dummy variables has to be dropped.`**"
   ]
  },
  {
   "cell_type": "code",
   "execution_count": null,
   "metadata": {},
   "outputs": [],
   "source": [
    "data.drop(columns='Unf', inplace=True) #Let's remove 'Unf' column"
   ]
  },
  {
   "cell_type": "markdown",
   "metadata": {},
   "source": [
    " <h1>🔮 <u>Model Creation:</u><h1>"
   ]
  },
  {
   "cell_type": "markdown",
   "metadata": {},
   "source": [
    "# 1. Create X (features) and y (target)"
   ]
  },
  {
   "cell_type": "markdown",
   "metadata": {},
   "source": [
    "🎯 The objective is to model the Sale price of houses in \\$ (`SalePrice`) according to their features.\n",
    "\n",
    "👇 Create 2 variables for X and y. Remember that X is the feature(s), and y the target."
   ]
  },
  {
   "cell_type": "markdown",
   "metadata": {},
   "source": [
    "👇 Prepare the feature set `X` and target `y`. Remember that we want to model the `SalePrice` with the preprocessed features."
   ]
  },
  {
   "cell_type": "code",
   "execution_count": null,
   "metadata": {
    "tags": [
     "challengify"
    ]
   },
   "outputs": [],
   "source": [
    "X = data.drop(columns=['SalePrice']) #create dataframe with only features\n",
    "y = data['SalePrice'] #our target"
   ]
  },
  {
   "cell_type": "markdown",
   "metadata": {},
   "source": [
    "# 2. Cross-Validation"
   ]
  },
  {
   "cell_type": "markdown",
   "metadata": {},
   "source": [
    "<mark>**What is Cross-Validation?**</mark>\n",
    "\n",
    "**1. Cross-Validation is a statistical method of evaluating and comparing learning algorithms by dividing data into two segments: one used to learn or train a model and the other used to validate the model.**\n",
    "\n",
    "**2. Cross-validation is a technique for evaluating a Machine Learning model and testing its performance.**\n",
    "\n",
    "**3. It helps to compare and select an appropriate model for the specific predictive modeling problem.**\n",
    "\n",
    "\n",
    "<u>There are a lot of different techniques that may be used to cross-validate a model.</u> \n",
    "   \n",
    "   <u>**Still, all of them have a similar algorithm:**</u>\n",
    "\n",
    "- Divide the dataset into two parts: one for training, other for testing\n",
    "- Train the model on the training set\n",
    "- Validate the model on the test set\n",
    "- Repeat 1-3 steps a couple of times. This number depends on the CV method that you are using\n",
    "\n",
    "<u>**There are plenty of CV techniques.** Some of them are commonly used, others work only in theory:</u> \n",
    "\n",
    "- Hold-out\n",
    "- K-folds\n",
    "- Leave-one-out\n",
    "- Leave-p-out\n",
    "- Stratified K-folds\n",
    "- Repeated K-folds\n",
    "- Nested K-folds\n",
    "- Time series CV\n",
    "\n",
    "**`The most-common form of cross-validation is K-fold cross-validation!`**"
   ]
  },
  {
   "cell_type": "markdown",
   "metadata": {},
   "source": [
    "## Hold-out Cross-validation ❌\n",
    "\n",
    "Hold-out cross-validation is the simplest and most common technique. You might not know that it is a hold-out method but you certainly use it every day.\n",
    "\n",
    "**The algorithm of hold-out technique:**\n",
    "\n",
    "1. Divide the dataset into two parts: the training set and the test set. Usually, 80% of the dataset goes to the training set and 20% to the test set but you may choose any splitting that suits you better\n",
    "2. Train the model on the training set\n",
    "3. Validate on the test set\n",
    "4. Save the result of the validation\n",
    "5. Hold-out cross-validation\n",
    "\n",
    "That’s it. \n",
    "\n",
    "We usually use the hold-out method on large datasets as it requires training the model only once.\n",
    "\n",
    "It is really easy to implement hold-out. For example, you may do it using sklearn.model_selection.train_test_split."
   ]
  },
  {
   "cell_type": "markdown",
   "metadata": {},
   "source": [
    "<img src=\"https://datavedas.com/wp-content/uploads/2018/04/image001.jpg\n",
    "\" alt=\"400\" width=\"700\" align=\"left\"/>"
   ]
  },
  {
   "cell_type": "code",
   "execution_count": null,
   "metadata": {},
   "outputs": [],
   "source": [
    "#from sklearn.model_selection import train_test_split\n",
    "\n",
    "#X_train, X_test, y_train, y_test = train_test_split(X, y, \n",
    "                                                    #test_size=0.3, \n",
    "                                                    #random_state=0)"
   ]
  },
  {
   "cell_type": "markdown",
   "metadata": {},
   "source": [
    "## Hold-out has a major disadvantage. ❌\n",
    "\n",
    "For example, a dataset that is not completely even distribution-wise. If so we may end up in a rough spot after the split. For example, the training set will not represent the test set. Both training and test sets may differ a lot, one of them might be easier or harder. \n",
    "\n",
    "Moreover, the fact that we test our model only once might be a bottleneck for this method. Due to the reasons mentioned before, the result obtained by the hold-out technique may be considered inaccurate."
   ]
  },
  {
   "cell_type": "markdown",
   "metadata": {},
   "source": [
    "<h1> <u>SOLUTION</u>: K-Fold Cross-Validation ✅ </h1>\n"
   ]
  },
  {
   "cell_type": "markdown",
   "metadata": {},
   "source": [
    "**K-Fold cross-validation is a technique that minimizes the disadvantages of the hold-out method.**\n",
    "\n",
    "<u>k-Fold introduces a new way of splitting the dataset which helps to overcome the “test only once bottleneck”.</u>\n",
    "\n",
    "**The algorithm of the k-Fold technique:**\n",
    "\n",
    "1. Pick a number of folds – k. Usually, k is 5 or 10 but you can choose any number which is less than the dataset’s length.\n",
    "2. Split the dataset into k equal (if possible) parts (they are called folds)\n",
    "3. Choose k – 1 folds as the training set. The remaining fold will be the test set\n",
    "4. Train the model on the training set. On each iteration of cross-validation, you must train a new model independently of the model trained on the previous iteration\n",
    "5. Validate on the test set\n",
    "6. Save the result of the validation\n",
    "7. Repeat steps 3 – 6 k times. Each time use the remaining  fold as the test set. In the end, you should have validated the model on every fold that you have.\n",
    "8. To get the final score average the results that you got on step 6."
   ]
  },
  {
   "cell_type": "markdown",
   "metadata": {},
   "source": [
    "<img src=\"https://scikit-learn.org/stable/_images/grid_search_cross_validation.png\" alt=\"400\" width=\"700\" align=\"left\"/>"
   ]
  },
  {
   "cell_type": "markdown",
   "metadata": {},
   "source": [
    "# Sklearn | Cross_validate()"
   ]
  },
  {
   "cell_type": "markdown",
   "metadata": {},
   "source": [
    "👇 Using Sklearn's `cross_validate` ([doc](https://scikit-learn.org/stable/modules/generated/sklearn.model_selection.cross_validate.html)) function run a 10-fold cross validation on a `LinearRegression` ([doc](https://scikit-learn.org/stable/modules/generated/sklearn.linear_model.LinearRegression.html)) model predicting sale price from living area. Save the raw output of the cross validation under a new variable `cv_results`."
   ]
  },
  {
   "cell_type": "code",
   "execution_count": null,
   "metadata": {
    "tags": [
     "challengify"
    ]
   },
   "outputs": [],
   "source": [
    "from sklearn.model_selection import cross_validate\n",
    "from sklearn.linear_model import LinearRegression\n",
    "\n",
    "# Instanciate model\n",
    "model = LinearRegression()\n",
    "\n",
    "# 5-Fold Cross validate model\n",
    "cv_results = cross_validate(model, X, y, cv=10)"
   ]
  },
  {
   "cell_type": "markdown",
   "metadata": {},
   "source": [
    "❓ What is the mean score of the cross validation? Compute your answer and save the value under new variable `mean_score`."
   ]
  },
  {
   "cell_type": "code",
   "execution_count": null,
   "metadata": {
    "tags": [
     "challengify"
    ]
   },
   "outputs": [],
   "source": [
    "# Mean of scores\n",
    "mean_score = cv_results['test_score'].mean()\n",
    "mean_score"
   ]
  },
  {
   "cell_type": "code",
   "execution_count": null,
   "metadata": {},
   "outputs": [],
   "source": [
    "#min value of scores\n",
    "\n",
    "min_score= cv_results['test_score'].min()\n",
    "min_score "
   ]
  },
  {
   "cell_type": "code",
   "execution_count": null,
   "metadata": {},
   "outputs": [],
   "source": [
    "#max value of scores\n",
    "\n",
    "max_score= cv_results['test_score'].max()\n",
    "max_score "
   ]
  },
  {
   "cell_type": "markdown",
   "metadata": {},
   "source": [
    "# Sklearn | Cross_val_score()"
   ]
  },
  {
   "cell_type": "markdown",
   "metadata": {},
   "source": [
    "👇 Cross validate a linear regression model using the **cross_val_score() function**. \n",
    "\n",
    "Save the R2 score under variable name `model_score`."
   ]
  },
  {
   "cell_type": "code",
   "execution_count": null,
   "metadata": {
    "tags": [
     "challengify"
    ]
   },
   "outputs": [],
   "source": [
    "from sklearn.linear_model import LinearRegression\n",
    "from sklearn.model_selection import cross_val_score \n",
    "\n",
    "model = LinearRegression() #instanciate Linear Regression model\n",
    "\n",
    "#use cross_val_score() to run a cross_validation and calucate R2 scores.\n",
    "\n",
    "scores = cross_val_score(model, X, y, cv=10) \n",
    "\n",
    "model_score = scores.mean()\n",
    "\n",
    "model_score"
   ]
  },
  {
   "cell_type": "markdown",
   "metadata": {},
   "source": [
    "ℹ️ When running a cross-validation, we always look at the mean score as the most robust and representative evaluation of the model's performance."
   ]
  },
  {
   "cell_type": "markdown",
   "metadata": {},
   "source": [
    "# 3. Train the Model"
   ]
  },
  {
   "cell_type": "markdown",
   "metadata": {},
   "source": [
    "<mark>**Cross validation does not train a model!**</mark>, <u>it evaluates a hypothetical model on the dataset</u>. \n",
    "\n",
    "<u>**If you want to use the model to, for example, make predictions, you will need to train it outside of the cross validation.**</u>\n",
    "\n",
    "👇 Go ahead and train the model. Save the trained model under the variable **`model`.**"
   ]
  },
  {
   "cell_type": "code",
   "execution_count": null,
   "metadata": {
    "tags": [
     "challengify"
    ]
   },
   "outputs": [],
   "source": [
    "# Instanciate the model\n",
    "model = LinearRegression()\n",
    "\n",
    "# Train the model on the Training data\n",
    "model.fit(X, y)"
   ]
  },
  {
   "cell_type": "markdown",
   "metadata": {},
   "source": [
    "❓ What is the **`slope`** of your trained model? It can be accessed via the model's attributes. "
   ]
  },
  {
   "cell_type": "code",
   "execution_count": null,
   "metadata": {
    "tags": [
     "challengify"
    ]
   },
   "outputs": [],
   "source": [
    "# Slope\n",
    "slope = model.coef_\n",
    "slope"
   ]
  },
  {
   "cell_type": "markdown",
   "metadata": {},
   "source": [
    "❓ What is the **`intercept`** of your trained model? It can be accessed via the model's attributes. "
   ]
  },
  {
   "cell_type": "code",
   "execution_count": null,
   "metadata": {
    "tags": [
     "challengify"
    ]
   },
   "outputs": [],
   "source": [
    "# Intercept\n",
    "intercept = model.intercept_\n",
    "intercept"
   ]
  },
  {
   "cell_type": "markdown",
   "metadata": {},
   "source": [
    "## 4. Visualize the model 📊 ('Let's use only the GrLivArea feature)\n",
    "\n",
    "👇 With matplotlib:\n",
    "\n",
    "- Define the line of best fit equation (using the slope and intercept values)\n",
    "- Plot it in a graph over the scattered data points"
   ]
  },
  {
   "cell_type": "code",
   "execution_count": null,
   "metadata": {},
   "outputs": [],
   "source": [
    "#Let's start with a scatterplot:\n",
    "\n",
    "plt.figure(figsize=(12,6))\n",
    "plt.scatter(data['GrLivArea'], data['SalePrice'], alpha=0.9)\n",
    "plt.title('SalePrice based on GrLivArea')\n",
    "plt.xlabel('GrLivArea')\n",
    "plt.ylabel('SalePrice')\n",
    "plt.show()"
   ]
  },
  {
   "cell_type": "code",
   "execution_count": null,
   "metadata": {},
   "outputs": [],
   "source": [
    "# Instanciate the model\n",
    "\n",
    "base_model = LinearRegression()\n",
    "\n",
    "# Train the model on the Training data\n",
    "\n",
    "base_model.fit(data[['GrLivArea']], data['SalePrice'])"
   ]
  },
  {
   "cell_type": "code",
   "execution_count": null,
   "metadata": {},
   "outputs": [],
   "source": [
    "base_model.coef_"
   ]
  },
  {
   "cell_type": "code",
   "execution_count": null,
   "metadata": {},
   "outputs": [],
   "source": [
    "base_model.intercept_"
   ]
  },
  {
   "cell_type": "code",
   "execution_count": null,
   "metadata": {},
   "outputs": [],
   "source": [
    "# Defining the line of best fit equation\n",
    "\n",
    "best_fit = base_model.coef_ * data['GrLivArea'] + base_model.intercept_\n",
    "\n",
    "plt.figure(figsize=(12,7))\n",
    "plt.scatter(data['GrLivArea'], data['SalePrice'], alpha=0.9)\n",
    "plt.plot(data['GrLivArea'], best_fit, color='green') #plot regression line\n",
    "plt.title('SalePrice VS GrLivArea')\n",
    "plt.xlabel('GrLivArea')\n",
    "plt.ylabel('SalePrice')\n",
    "plt.show()"
   ]
  },
  {
   "cell_type": "code",
   "execution_count": null,
   "metadata": {},
   "outputs": [],
   "source": [
    "import seaborn as sns\n",
    "\n",
    "plt.figure(figsize=(12,7))\n",
    "\n",
    "#Let's use regplot() from Seaborn library:\n",
    "\n",
    "sns.regplot(x=data['GrLivArea'], y=data['SalePrice'], data=data)\n",
    "plt.title('SalePrice VS GrLivArea')\n",
    "plt.xlabel('GrLivArea')\n",
    "plt.ylabel('SalePrice')\n",
    "plt.show()\n"
   ]
  },
  {
   "cell_type": "markdown",
   "metadata": {},
   "source": [
    "# 5. Predict"
   ]
  },
  {
   "cell_type": "markdown",
   "metadata": {},
   "source": [
    "👇 Use your trained model to predict the sale price of a house with a living area of 1500 square feet. Save the predicted price as variable name `prediction`."
   ]
  },
  {
   "cell_type": "code",
   "execution_count": null,
   "metadata": {},
   "outputs": [],
   "source": [
    "#Let's first scale our value: (reuse the previous robust scaler)\n",
    "\n",
    "scaled_area= rb_scaler.transform([[1500]])\n",
    "scaled_area"
   ]
  },
  {
   "cell_type": "code",
   "execution_count": null,
   "metadata": {
    "tags": [
     "challengify"
    ]
   },
   "outputs": [],
   "source": [
    "# Make prediction with model\n",
    "\n",
    "prediction = base_model.predict(scaled_area)[0]\n",
    "prediction"
   ]
  },
  {
   "cell_type": "markdown",
   "metadata": {},
   "source": [
    "# Feature Permutation 🥇 🥈 🥉"
   ]
  },
  {
   "cell_type": "markdown",
   "metadata": {},
   "source": [
    "👇 Perform feature permutation, and rank features by order of importance."
   ]
  },
  {
   "cell_type": "code",
   "execution_count": null,
   "metadata": {
    "tags": [
     "challengify"
    ]
   },
   "outputs": [],
   "source": [
    "import numpy as np\n",
    "from sklearn.inspection import permutation_importance\n",
    "\n",
    "model = LinearRegression().fit(X, y) # Fit model\n",
    "\n",
    "permutation_score = permutation_importance(model, X, y, n_repeats=100) # Perform Permutation\n",
    "\n",
    "importance_df = pd.DataFrame(np.vstack((X.columns,\n",
    "                                        permutation_score.importances_mean)).T) # Unstack results\n",
    "\n",
    "importance_df.columns=['feature','feature importance'] # Change column names\n",
    "\n",
    "importance_df.sort_values(by=\"feature importance\", ascending = False) # Order by importance"
   ]
  },
  {
   "cell_type": "markdown",
   "metadata": {},
   "source": [
    "❓ Which feature is the most important? **The most important feature is `GrLivArea` .**"
   ]
  },
  {
   "cell_type": "markdown",
   "metadata": {},
   "source": [
    "# Reduce complexity model ✂️"
   ]
  },
  {
   "cell_type": "markdown",
   "metadata": {},
   "source": [
    "👇 **Drop the weak features and cross-validate a new model.** You should aim to maintain a score close to the previous one. Save the score under variable name `simplified_model_score`."
   ]
  },
  {
   "cell_type": "code",
   "execution_count": null,
   "metadata": {
    "tags": [
     "challengify"
    ]
   },
   "outputs": [],
   "source": [
    "X = X.drop(columns=['RoofSurface','OverallCond','sin_MoSold','cos_MoSold','RFn','NoGarage']) # Drops weak features\n",
    "\n",
    "model = LinearRegression()\n",
    "\n",
    "scores = cross_val_score(model, X, y, cv=10)\n",
    "\n",
    "simplified_model_score = scores.mean()\n",
    "\n",
    "simplified_model_score"
   ]
  },
  {
   "cell_type": "markdown",
   "metadata": {},
   "source": [
    "# The Bias / Variance tradeoff ❗️ ❗️ \n",
    "\n",
    "**For a model to generalize there will be a tradeoff between bias and variance.**\n",
    "\n",
    "- Bias (Underfitting): The inability for an algorithm to learn the patterns within a dataset.\n",
    "- Variance (Overfitting): The algorithm generates an overly complex relationship when modeling patterns within a dataset."
   ]
  },
  {
   "cell_type": "markdown",
   "metadata": {},
   "source": [
    "<img src=\"https://miro.medium.com/max/1400/1*9hPX9pAO3jqLrzt0IE3JzA.png\" alt=\"400\" width=\"900\" align=\"left\"/>\n",
    "\n"
   ]
  },
  {
   "cell_type": "markdown",
   "metadata": {},
   "source": [
    "## No Free Lunch Theorem\n",
    "\n",
    "<u>Some models oversimplify, while others overcomplicate a relationship between features and target.</u>\n",
    "\n",
    "It's up to us as data scientists to make assumptions about the data and evaluate reasonable models accordingly.\n",
    "\n",
    "There is no one-size-fits-all model, this is known as the **No Free Lunch Theorem.**"
   ]
  },
  {
   "cell_type": "markdown",
   "metadata": {},
   "source": [
    "# Learning Curves  🧬"
   ]
  },
  {
   "cell_type": "markdown",
   "metadata": {},
   "source": [
    "**Learning curves are used to diagnose three aspects of model behaviour on the dataset:**\n",
    "\n",
    "- `Underfitting`\n",
    "- `Overfitting`\n",
    "- `Whether the model has sufficient data to learn the patterns of the dataset`"
   ]
  },
  {
   "cell_type": "markdown",
   "metadata": {},
   "source": [
    "## Reading the curves\n",
    "\n",
    "<u>The two curves are plotted together on the same graph.</u>\n",
    "\n",
    "<u><h3> We can have 3 cases:</h3></u>"
   ]
  },
  {
   "cell_type": "markdown",
   "metadata": {},
   "source": [
    "## `High bias / Underfitting`\n",
    "\n",
    "- ***Low scores in both training and test sets.*** ❌ \n",
    "\n",
    "If the model cannot determine a relationship in the training set, we cannot expect the model to score highly in the test set.\n",
    "\n",
    "Training and testing scores converge and plateau at a low score. No matter how much data is used for training, the model cannot determine a meaningful relationship."
   ]
  },
  {
   "cell_type": "markdown",
   "metadata": {},
   "source": [
    "<img src=\"https://github.com/lorisliusso/Machine-Learning-with-Python/blob/master/Learning%20Curves%20undefitting.png?raw=trueg\" alt=\"400\" width=\"500\" align=\"left\"/>\n"
   ]
  },
  {
   "cell_type": "markdown",
   "metadata": {},
   "source": [
    "# `High variance / Overfitting`\n",
    "\n",
    "- High score on training set\n",
    "\n",
    "- **Low score on test set** ❌ \n",
    "\n",
    "The model has paid too much attention to both signal and noise, this leads to high training scores.\n",
    "\n",
    "Reliance on noise does not generalize well on unseen data, resulting in low test scores.\n",
    "\n"
   ]
  },
  {
   "cell_type": "markdown",
   "metadata": {},
   "source": [
    "<img src=\"https://github.com/lorisliusso/Machine-Learning-with-Python/blob/master/Learning%20Curves%20overfitting.png?raw=true\" alt=\"400\" width=\"500\" align=\"left\"/>\n"
   ]
  },
  {
   "cell_type": "markdown",
   "metadata": {},
   "source": [
    "# ` Ideal curves`\n",
    "\n",
    "- High score on training set\n",
    "\n",
    "- High score on test set\n",
    "\n",
    "- **Converged curves** ✅ \n"
   ]
  },
  {
   "cell_type": "markdown",
   "metadata": {},
   "source": [
    "<img src=\"https://github.com/lorisliusso/Machine-Learning-with-Python/blob/master/Learning%20Curves%20ideal.png?raw=true\" alt=\"400\" width=\"500\" align=\"left\"/>\n"
   ]
  },
  {
   "cell_type": "markdown",
   "metadata": {},
   "source": [
    "## Sklearn | Learning Curves"
   ]
  },
  {
   "cell_type": "markdown",
   "metadata": {},
   "source": [
    "Learning curves are used to <u>diagnose the performance of the model in more depth.</u>\n",
    " \n",
    "👇 Plot the learning curves of the model ([documentation](https://scikit-learn.org/stable/modules/generated/sklearn.model_selection.learning_curve.html)). Use the following `train_sizes`:\n",
    "- [25,50,75,100,250,500,750,1000,1150]"
   ]
  },
  {
   "cell_type": "code",
   "execution_count": null,
   "metadata": {
    "tags": [
     "challengify"
    ]
   },
   "outputs": [],
   "source": [
    "import matplotlib.pyplot as plt\n",
    "from sklearn.model_selection import learning_curve\n",
    "import numpy as np\n",
    "\n",
    "# Get train scores, train sizes, and validation scores using `learning_curve`, r2 score\n",
    "train_sizes, train_scores, test_scores = learning_curve(estimator = LinearRegression(),\n",
    "                                                              X = X, \n",
    "                                                              y = y, \n",
    "                                                              train_sizes = [25,50,75,100,250,500,750,1000,1150], \n",
    "                                                              cv = 10)\n",
    "\n",
    "# Take the mean of cross-validated train scores and validation scores\n",
    "train_scores_mean = np.mean(train_scores, axis=1)\n",
    "test_scores_mean = np.mean(test_scores, axis=1)\n",
    "\n",
    "# Plot the learning curves!\n",
    "plt.figure(figsize=(12,7))\n",
    "plt.plot(train_sizes, train_scores_mean, label = 'Training score')\n",
    "plt.plot(train_sizes, test_scores_mean, label = 'Test score')\n",
    "plt.ylabel('r2 score', fontsize = 14)\n",
    "plt.xlabel('Training set size', fontsize = 14)\n",
    "plt.title('Learning curves', fontsize = 18, y = 1.03)\n",
    "#plt.xlim([0, 1000])\n",
    "#plt.ylim([0, 1])\n",
    "plt.legend();"
   ]
  },
  {
   "cell_type": "markdown",
   "metadata": {},
   "source": [
    "### ❓ How would you interpret the Learning Curves?"
   ]
  },
  {
   "cell_type": "markdown",
   "metadata": {},
   "source": [
    "\n",
    "👉 **The curves have converged:** \n",
    "\n",
    "- The model has reached optimal performance with the given data.\n",
    "- The model is not overfitting (no variance) the training data, it is generalizing well on unseen data.\n",
    "\n",
    "👉 **The R2 score is around 0.65. Either:**\n",
    "\n",
    "- The model is biased: it is too simple to learn the patterns of the data\n",
    "- The model needs more features to get better at predicting the house prices\n",
    "\n",
    "\n",
    "👉 <u>From the looks of the graph, the testing score stabilizes at a training size of around **300**.</u>"
   ]
  },
  {
   "cell_type": "markdown",
   "metadata": {},
   "source": [
    "##  Reducing training set size"
   ]
  },
  {
   "cell_type": "markdown",
   "metadata": {},
   "source": [
    "<u>The more data, the longer the training! </u>\n",
    "\n",
    "In certain cases, you will be working with enormous datasets.\n",
    "\n",
    "In those situations, **the learning curves can help you find the right tradeoff between reducing the training size (and training time!) while maintaining a high performing model.** 👈"
   ]
  },
  {
   "cell_type": "markdown",
   "metadata": {},
   "source": [
    "👇 <u>Select the first 300 rows of the dataset</u> (deemed sufficient by the learning curves) and save them under variable name `reduced_dataset`."
   ]
  },
  {
   "cell_type": "code",
   "execution_count": null,
   "metadata": {
    "tags": [
     "challengify"
    ]
   },
   "outputs": [],
   "source": [
    "# Select first 300 rows\n",
    "reduced_dataset = data.head(300)"
   ]
  },
  {
   "cell_type": "markdown",
   "metadata": {},
   "source": [
    "👇 On the `reduced_dataset`, cross-validate a model made to predict sale price (`SalePrice`) with:\n",
    "- Living area (`GrLivArea`)\n",
    "- Number of bedrooms (`BedroomAbvGr`)\n",
    "- Number of kitchens (`KitchenAbvGr`)\n",
    "- Overall quality (`OverallCond`)\n",
    "\n",
    "Save the cross validated score under variable name `reduced_dataset_score`."
   ]
  },
  {
   "cell_type": "code",
   "execution_count": null,
   "metadata": {
    "tags": [
     "challengify"
    ]
   },
   "outputs": [],
   "source": [
    "# Create feature set from reduced dataset\n",
    "reduced_X = reduced_dataset[['GrLivArea','BedroomAbvGr', 'KitchenAbvGr','OverallCond']]\n",
    "reduced_y = reduced_dataset['SalePrice']\n",
    "\n",
    "# Instanciate model\n",
    "model = LinearRegression()\n",
    "\n",
    "# 5-Fold Cross validate model\n",
    "cv_results = cross_validate(model, reduced_X, reduced_y, cv=10)\n",
    "\n",
    "# Scores\n",
    "cv_results['test_score']\n",
    "\n",
    "# Mean of scores\n",
    "reduced_dataset_score = cv_results['test_score'].mean()\n",
    "\n",
    "reduced_dataset_score"
   ]
  },
  {
   "cell_type": "markdown",
   "metadata": {},
   "source": [
    "**The score should be nearly the same as with the full dataset!** \n",
    "\n",
    "**On the other hand, you'll have reduced the computational expense!!** 🚀"
   ]
  },
  {
   "cell_type": "markdown",
   "metadata": {},
   "source": [
    "# Regression Metrics  🎯"
   ]
  },
  {
   "cell_type": "markdown",
   "metadata": {},
   "source": [
    "There are `3 main metrics` <u>for **model evaluation** in **Regression**</u>:\n",
    "    \n",
    "**1. R Square/Adjusted R Square**\n",
    "\n",
    "**2. Mean Square Error(MSE)/Root Mean Square Error(RMSE)**\n",
    "\n",
    "**3. Mean Absolute Error(MAE)**"
   ]
  },
  {
   "cell_type": "markdown",
   "metadata": {},
   "source": [
    "## `R Square/Adjusted R Square`\n",
    "\n",
    "**R Square measures how much variability in dependent variable can be explained by the model.**\n",
    "\n",
    "<u>It is the square of the Correlation Coefficient(R) and that is why it is called R Square.</u>"
   ]
  },
  {
   "cell_type": "markdown",
   "metadata": {},
   "source": [
    "- R Square is calculated by the sum of squared of prediction error divided by the total sum of the square which replaces the calculated prediction with mean. \n",
    "\n",
    "- R Square value is between 0 to 1 and a bigger value indicates a better fit between prediction and actual value."
   ]
  },
  {
   "cell_type": "markdown",
   "metadata": {},
   "source": [
    "<img src=\"https://github.com/lorisliusso/Machine-Learning-with-Python/blob/master/rsquared_formula.png?raw=true\" alt=\"400\" width=\"700\" align=\"left\"/>\n"
   ]
  },
  {
   "cell_type": "markdown",
   "metadata": {},
   "source": [
    "- R Square is a good measure to determine how well the model fits the dependent variables. \n",
    "\n",
    "***However, it does not take into consideration of overfitting problem. If your regression model has many independent variables, because the model is too complicated, it may fit very well to the training data but performs badly for testing data.*** "
   ]
  },
  {
   "cell_type": "markdown",
   "metadata": {},
   "source": [
    "## `Mean Square Error(MSE)/Root Mean Square Error(RMSE)`\n",
    "\n",
    "While R Square is a relative measure of how well the model fits dependent variables, \n",
    "\n",
    "**Mean Square Error is an absolute measure of the goodness for the fit.**"
   ]
  },
  {
   "cell_type": "markdown",
   "metadata": {},
   "source": [
    "MSE is calculated by the sum of square of prediction error which is real output minus predicted output and then divide by the number of data points.\n",
    "\n",
    "<u>It gives you an absolute number on how much your predicted results deviate from the actual number. </u>\n",
    "\n",
    "You cannot interpret many insights from one single result but it gives you a real number to compare against other model results and help you select the best regression model."
   ]
  },
  {
   "cell_type": "markdown",
   "metadata": {},
   "source": [
    "<img src=\"https://github.com/lorisliusso/Machine-Learning-with-Python/blob/master/mse_formula.png?raw=true\" alt=\"400\" width=\"550\" align=\"left\"/>\n"
   ]
  },
  {
   "cell_type": "markdown",
   "metadata": {},
   "source": [
    "**Root Mean Square Error (RMSE) is the square root of MSE. It is used more commonly than MSE because firstly sometimes MSE value can be too big to compare easily.** \n",
    "\n",
    "Secondly, MSE is calculated by the square of error, and thus square root brings it back to the same level of prediction error and makes it easier for interpretation."
   ]
  },
  {
   "cell_type": "markdown",
   "metadata": {},
   "source": [
    "## `Mean Absolute Error(MAE)`\n",
    "\n",
    "Mean Absolute Error(MAE) is similar to Mean Square Error(MSE).\n",
    "\n",
    "**However, instead of the sum of square of error in MSE, MAE is taking the sum of the absolute value of error.**\n"
   ]
  },
  {
   "cell_type": "markdown",
   "metadata": {},
   "source": [
    "<img src=\"https://github.com/lorisliusso/Machine-Learning-with-Python/blob/master/mae_formula.png?raw=true\" alt=\"400\" width=\"550\" align=\"left\"/>\n"
   ]
  },
  {
   "cell_type": "markdown",
   "metadata": {},
   "source": [
    "Compare to MSE or RMSE, **MAE is a more direct representation of sum of error terms.**\n",
    "\n",
    "MSE gives larger penalization to big prediction error by square it while MAE treats all errors the same."
   ]
  },
  {
   "cell_type": "markdown",
   "metadata": {},
   "source": [
    "<mark>**Overall Recommendation/Conclusion:**</mark>\n",
    "\n",
    "R Square/Adjusted R Square is better used to explain the model to other people because you can explain the number as a percentage of the output variability. MSE, RMSE, or MAE are better be used to compare performance between different regression models. \n"
   ]
  },
  {
   "cell_type": "markdown",
   "metadata": {},
   "source": [
    "# Sklearn | Metrics:"
   ]
  },
  {
   "cell_type": "code",
   "execution_count": null,
   "metadata": {},
   "outputs": [],
   "source": [
    "from sklearn.metrics import SCORERS\n",
    "\n",
    "SCORERS.keys()"
   ]
  },
  {
   "cell_type": "code",
   "execution_count": null,
   "metadata": {},
   "outputs": [],
   "source": [
    "# Instanciate model\n",
    "model = LinearRegression()\n",
    "\n",
    "# 5-Fold Cross validate model\n",
    "cv_results = cross_validate(model, reduced_X, reduced_y, \n",
    "                            scoring=['r2', 'neg_root_mean_squared_error', 'neg_mean_absolute_error'], \n",
    "                            cv=10 )\n",
    "\n",
    "#Mean of Scores: R2, RMSE, MAE\n",
    "\n",
    "r2 = cv_results['test_r2'].mean()\n",
    "\n",
    "rmse= cv_results['test_neg_root_mean_squared_error'].mean()\n",
    "\n",
    "mae= cv_results['test_neg_mean_absolute_error'].mean()\n",
    "\n",
    "print('R2: ', r2)\n",
    "print('RMSE: ', rmse)\n",
    "print('MAE: ', mae)"
   ]
  },
  {
   "cell_type": "code",
   "execution_count": null,
   "metadata": {},
   "outputs": [],
   "source": [
    "data['SalePrice'].mean()"
   ]
  },
  {
   "cell_type": "markdown",
   "metadata": {},
   "source": [
    "# 🏁"
   ]
  },
  {
   "cell_type": "markdown",
   "metadata": {},
   "source": [
    "<img src=\"https://media.istockphoto.com/vectors/congratulations-greeting-sign-congrats-graduated-vector-id1148641884?k=20&m=1148641884&s=170667a&w=0&h=UZvEyiD5nxDJiLz5n0i1jdvWn-MR6wt1nomiPV1wSDE=\" alt=\"400\" width=\"500\" align=\"left\"/>"
   ]
  }
 ],
 "metadata": {
  "kernelspec": {
   "display_name": "Python 3 (ipykernel)",
   "language": "python",
   "name": "python3"
  },
  "language_info": {
   "codemirror_mode": {
    "name": "ipython",
    "version": 3
   },
   "file_extension": ".py",
   "mimetype": "text/x-python",
   "name": "python",
   "nbconvert_exporter": "python",
   "pygments_lexer": "ipython3",
   "version": "3.9.7"
  }
 },
 "nbformat": 4,
 "nbformat_minor": 4
}
